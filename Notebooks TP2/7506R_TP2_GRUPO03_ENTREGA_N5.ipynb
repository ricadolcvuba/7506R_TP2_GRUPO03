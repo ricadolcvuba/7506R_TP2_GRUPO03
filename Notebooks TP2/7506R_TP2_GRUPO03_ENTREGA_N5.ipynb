{
  "nbformat": 4,
  "nbformat_minor": 0,
  "metadata": {
    "colab": {
      "provenance": []
    },
    "kernelspec": {
      "name": "python3",
      "display_name": "Python 3"
    },
    "language_info": {
      "name": "python"
    }
  },
  "cells": [
    {
      "cell_type": "code",
      "source": [
        "import matplotlib.pyplot as plt\n",
        "import pandas as pd\n",
        "import numpy as np\n",
        "import re\n",
        "import random\n",
        "\n",
        "from IPython.display import display\n",
        "\n",
        "from nltk import word_tokenize, sent_tokenize\n",
        "\n",
        "from sklearn.model_selection import train_test_split, cross_val_score, GridSearchCV,StratifiedKFold\n",
        "from sklearn.feature_extraction.text import CountVectorizer, TfidfVectorizer\n",
        "from sklearn.naive_bayes import MultinomialNB\n",
        "from sklearn.metrics import confusion_matrix, precision_recall_fscore_support, classification_report\n",
        "from sklearn.dummy import DummyClassifier\n",
        "import nltk"
      ],
      "metadata": {
        "id": "p50hNkHZsosO"
      },
      "execution_count": null,
      "outputs": []
    },
    {
      "cell_type": "code",
      "source": [
        "from google.colab import drive\n",
        "\n",
        "drive.mount('/content/drive')"
      ],
      "metadata": {
        "colab": {
          "base_uri": "https://localhost:8080/"
        },
        "id": "-owToOaWt3xi",
        "outputId": "4faa414b-b5e0-4f0b-f6d2-3ca7c94012a0"
      },
      "execution_count": null,
      "outputs": [
        {
          "output_type": "stream",
          "name": "stdout",
          "text": [
            "Mounted at /content/drive\n"
          ]
        }
      ]
    },
    {
      "cell_type": "code",
      "source": [
        "train_url = 'https://media.githubusercontent.com/media/ricadolcvuba/Dataset-TP2/main/df_train_preprocesado.csv'\n",
        "df_train = pd.read_csv(train_url)\n",
        "x_train = df_train['review_es']\n",
        "y_train = df_train['sentimiento']\n",
        "test_url = 'https://media.githubusercontent.com/media/ricadolcvuba/Dataset-TP2/main/df_test_preprocesado.csv'\n",
        "df_test = pd.read_csv(test_url)\n",
        "x_test = df_test['review_es']"
      ],
      "metadata": {
        "id": "jcx0UcMVsuIg"
      },
      "execution_count": null,
      "outputs": []
    },
    {
      "cell_type": "code",
      "source": [
        "from sklearn.feature_extraction.text import CountVectorizer\n",
        "import nltk\n",
        "from nltk.corpus import stopwords\n",
        "from nltk import word_tokenize\n",
        "nltk.download('stopwords')"
      ],
      "metadata": {
        "colab": {
          "base_uri": "https://localhost:8080/"
        },
        "id": "eXuqCi3hJO8B",
        "outputId": "9796056f-3b4c-4d57-8b74-2f2282fecfc7"
      },
      "execution_count": null,
      "outputs": [
        {
          "output_type": "stream",
          "name": "stderr",
          "text": [
            "[nltk_data] Downloading package stopwords to /root/nltk_data...\n",
            "[nltk_data]   Unzipping corpora/stopwords.zip.\n"
          ]
        },
        {
          "output_type": "execute_result",
          "data": {
            "text/plain": [
              "True"
            ]
          },
          "metadata": {},
          "execution_count": 8
        }
      ]
    },
    {
      "cell_type": "code",
      "source": [
        "my_stop_words = stopwords.words('spanish')\n",
        "# Instanciamos el CV\n",
        "vec = CountVectorizer(stop_words=my_stop_words, ngram_range=(1,2))\n",
        "\n",
        "# Ajustamos el CV y transformamos los datos\n",
        "x_train = vec.fit_transform(x_train)\n",
        "x_test = vec.transform(x_test)"
      ],
      "metadata": {
        "id": "lco8wBNMJR_G"
      },
      "execution_count": null,
      "outputs": []
    },
    {
      "cell_type": "markdown",
      "source": [
        "## RN"
      ],
      "metadata": {
        "id": "crBD8dz0pZJj"
      }
    },
    {
      "cell_type": "code",
      "source": [
        "!pip install scikeras"
      ],
      "metadata": {
        "id": "JR1d62wYVyxQ"
      },
      "execution_count": null,
      "outputs": []
    },
    {
      "cell_type": "code",
      "source": [
        "import tensorflow as tf\n",
        "from tensorflow import keras\n",
        "from scikeras.wrappers import KerasClassifier\n",
        "from sklearn.metrics import make_scorer, f1_score\n",
        "import numpy as np"
      ],
      "metadata": {
        "id": "-CIelZfTpcid"
      },
      "execution_count": null,
      "outputs": []
    },
    {
      "cell_type": "code",
      "execution_count": null,
      "metadata": {
        "id": "VOEywzuT6JSR"
      },
      "outputs": [],
      "source": [
        "# Create the sklearn model for the network\n",
        "\n",
        "def create_model():\n",
        "    cant_clases=len(np.unique(y_train))\n",
        "\n",
        "    modelo= keras.Sequential([\n",
        "    #keras.layers.Dense(2, activation='sigmoid'),\n",
        "    keras.Input(shape=(3192097,)),\n",
        "    keras.layers.Dense(cant_clases, activation='sigmoid')])\n",
        "\n",
        "    modelo.compile(\n",
        "      optimizer=\"adam\",\n",
        "      loss=\"sparse_categorical_crossentropy\",\n",
        "      # metricas para ir calculando en cada iteracion o batch\n",
        "      metrics=['f1_score'],\n",
        "    )\n",
        "\n",
        "    return modelo\n"
      ]
    },
    {
      "cell_type": "code",
      "execution_count": null,
      "metadata": {
        "id": "odQxGZWwtfhM"
      },
      "outputs": [],
      "source": [
        "modelo_cv = KerasClassifier(model=create_model)"
      ]
    },
    {
      "cell_type": "code",
      "execution_count": null,
      "metadata": {
        "id": "7FbyhrlR_YNT",
        "colab": {
          "base_uri": "https://localhost:8080/"
        },
        "outputId": "4d9b4a76-e7be-4390-c6ac-bad7b6d128d9"
      },
      "outputs": [
        {
          "output_type": "stream",
          "name": "stdout",
          "text": [
            "Epoch 1/10\n",
            "\u001b[1m1033/1033\u001b[0m \u001b[32m━━━━━━━━━━━━━━━━━━━━\u001b[0m\u001b[37m\u001b[0m \u001b[1m73s\u001b[0m 70ms/step - f1_score: 0.4982 - loss: 0.4426\n",
            "Epoch 2/10\n",
            "\u001b[1m1033/1033\u001b[0m \u001b[32m━━━━━━━━━━━━━━━━━━━━\u001b[0m\u001b[37m\u001b[0m \u001b[1m75s\u001b[0m 73ms/step - f1_score: 0.5000 - loss: 0.0430\n",
            "Epoch 3/10\n",
            "\u001b[1m1033/1033\u001b[0m \u001b[32m━━━━━━━━━━━━━━━━━━━━\u001b[0m\u001b[37m\u001b[0m \u001b[1m73s\u001b[0m 71ms/step - f1_score: 0.4999 - loss: 0.0167\n",
            "Epoch 4/10\n",
            "\u001b[1m1033/1033\u001b[0m \u001b[32m━━━━━━━━━━━━━━━━━━━━\u001b[0m\u001b[37m\u001b[0m \u001b[1m85s\u001b[0m 82ms/step - f1_score: 0.5000 - loss: 0.0088\n",
            "Epoch 5/10\n",
            "\u001b[1m1033/1033\u001b[0m \u001b[32m━━━━━━━━━━━━━━━━━━━━\u001b[0m\u001b[37m\u001b[0m \u001b[1m141s\u001b[0m 81ms/step - f1_score: 0.5000 - loss: 0.0052\n",
            "Epoch 6/10\n",
            "\u001b[1m1033/1033\u001b[0m \u001b[32m━━━━━━━━━━━━━━━━━━━━\u001b[0m\u001b[37m\u001b[0m \u001b[1m73s\u001b[0m 71ms/step - f1_score: 0.5000 - loss: 0.0031\n",
            "Epoch 7/10\n",
            "\u001b[1m1033/1033\u001b[0m \u001b[32m━━━━━━━━━━━━━━━━━━━━\u001b[0m\u001b[37m\u001b[0m \u001b[1m77s\u001b[0m 75ms/step - f1_score: 0.5000 - loss: 0.0018\n",
            "Epoch 8/10\n",
            "\u001b[1m1033/1033\u001b[0m \u001b[32m━━━━━━━━━━━━━━━━━━━━\u001b[0m\u001b[37m\u001b[0m \u001b[1m79s\u001b[0m 72ms/step - f1_score: 0.5000 - loss: 0.0012\n",
            "Epoch 9/10\n",
            "\u001b[1m1033/1033\u001b[0m \u001b[32m━━━━━━━━━━━━━━━━━━━━\u001b[0m\u001b[37m\u001b[0m \u001b[1m73s\u001b[0m 70ms/step - f1_score: 0.5000 - loss: 7.1069e-04\n",
            "Epoch 10/10\n",
            "\u001b[1m1033/1033\u001b[0m \u001b[32m━━━━━━━━━━━━━━━━━━━━\u001b[0m\u001b[37m\u001b[0m \u001b[1m82s\u001b[0m 70ms/step - f1_score: 0.5000 - loss: 4.4853e-04\n",
            "\u001b[1m345/345\u001b[0m \u001b[32m━━━━━━━━━━━━━━━━━━━━\u001b[0m\u001b[37m\u001b[0m \u001b[1m2s\u001b[0m 6ms/step\n"
          ]
        },
        {
          "output_type": "stream",
          "name": "stderr",
          "text": [
            "/usr/local/lib/python3.10/dist-packages/sklearn/metrics/_classification.py:1569: UserWarning: Note that pos_label (set to 'positivo') is ignored when average != 'binary' (got 'micro'). You may use labels=[pos_label] to specify a single positive class.\n",
            "  warnings.warn(\n"
          ]
        },
        {
          "output_type": "stream",
          "name": "stdout",
          "text": [
            "Epoch 1/10\n",
            "\u001b[1m1033/1033\u001b[0m \u001b[32m━━━━━━━━━━━━━━━━━━━━\u001b[0m\u001b[37m\u001b[0m \u001b[1m75s\u001b[0m 71ms/step - f1_score: 0.4988 - loss: 0.4407\n",
            "Epoch 2/10\n",
            "\u001b[1m1033/1033\u001b[0m \u001b[32m━━━━━━━━━━━━━━━━━━━━\u001b[0m\u001b[37m\u001b[0m \u001b[1m80s\u001b[0m 70ms/step - f1_score: 0.4999 - loss: 0.0429\n",
            "Epoch 3/10\n",
            "\u001b[1m1033/1033\u001b[0m \u001b[32m━━━━━━━━━━━━━━━━━━━━\u001b[0m\u001b[37m\u001b[0m \u001b[1m82s\u001b[0m 70ms/step - f1_score: 0.4999 - loss: 0.0165\n",
            "Epoch 4/10\n",
            "\u001b[1m1033/1033\u001b[0m \u001b[32m━━━━━━━━━━━━━━━━━━━━\u001b[0m\u001b[37m\u001b[0m \u001b[1m73s\u001b[0m 70ms/step - f1_score: 0.5000 - loss: 0.0088\n",
            "Epoch 5/10\n",
            "\u001b[1m1033/1033\u001b[0m \u001b[32m━━━━━━━━━━━━━━━━━━━━\u001b[0m\u001b[37m\u001b[0m \u001b[1m81s\u001b[0m 70ms/step - f1_score: 0.5000 - loss: 0.0052\n",
            "Epoch 6/10\n",
            "\u001b[1m1033/1033\u001b[0m \u001b[32m━━━━━━━━━━━━━━━━━━━━\u001b[0m\u001b[37m\u001b[0m \u001b[1m82s\u001b[0m 70ms/step - f1_score: 0.5000 - loss: 0.0031\n",
            "Epoch 7/10\n",
            "\u001b[1m1033/1033\u001b[0m \u001b[32m━━━━━━━━━━━━━━━━━━━━\u001b[0m\u001b[37m\u001b[0m \u001b[1m72s\u001b[0m 69ms/step - f1_score: 0.5000 - loss: 0.0019\n",
            "Epoch 8/10\n",
            "\u001b[1m1033/1033\u001b[0m \u001b[32m━━━━━━━━━━━━━━━━━━━━\u001b[0m\u001b[37m\u001b[0m \u001b[1m72s\u001b[0m 69ms/step - f1_score: 0.5000 - loss: 0.0011\n",
            "Epoch 9/10\n",
            "\u001b[1m1033/1033\u001b[0m \u001b[32m━━━━━━━━━━━━━━━━━━━━\u001b[0m\u001b[37m\u001b[0m \u001b[1m72s\u001b[0m 69ms/step - f1_score: 0.5000 - loss: 7.2173e-04\n",
            "Epoch 10/10\n",
            "\u001b[1m1033/1033\u001b[0m \u001b[32m━━━━━━━━━━━━━━━━━━━━\u001b[0m\u001b[37m\u001b[0m \u001b[1m72s\u001b[0m 69ms/step - f1_score: 0.5000 - loss: 4.2541e-04\n",
            "\u001b[1m345/345\u001b[0m \u001b[32m━━━━━━━━━━━━━━━━━━━━\u001b[0m\u001b[37m\u001b[0m \u001b[1m1s\u001b[0m 4ms/step\n"
          ]
        },
        {
          "output_type": "stream",
          "name": "stderr",
          "text": [
            "/usr/local/lib/python3.10/dist-packages/sklearn/metrics/_classification.py:1569: UserWarning: Note that pos_label (set to 'positivo') is ignored when average != 'binary' (got 'micro'). You may use labels=[pos_label] to specify a single positive class.\n",
            "  warnings.warn(\n"
          ]
        },
        {
          "output_type": "stream",
          "name": "stdout",
          "text": [
            "Epoch 1/10\n",
            "\u001b[1m1033/1033\u001b[0m \u001b[32m━━━━━━━━━━━━━━━━━━━━\u001b[0m\u001b[37m\u001b[0m \u001b[1m81s\u001b[0m 77ms/step - f1_score: 0.4983 - loss: 0.4402\n",
            "Epoch 2/10\n",
            "\u001b[1m1033/1033\u001b[0m \u001b[32m━━━━━━━━━━━━━━━━━━━━\u001b[0m\u001b[37m\u001b[0m \u001b[1m73s\u001b[0m 69ms/step - f1_score: 0.5000 - loss: 0.0437\n",
            "Epoch 3/10\n",
            "\u001b[1m1033/1033\u001b[0m \u001b[32m━━━━━━━━━━━━━━━━━━━━\u001b[0m\u001b[37m\u001b[0m \u001b[1m82s\u001b[0m 69ms/step - f1_score: 0.4999 - loss: 0.0163\n",
            "Epoch 4/10\n",
            "\u001b[1m1033/1033\u001b[0m \u001b[32m━━━━━━━━━━━━━━━━━━━━\u001b[0m\u001b[37m\u001b[0m \u001b[1m72s\u001b[0m 69ms/step - f1_score: 0.5000 - loss: 0.0088\n",
            "Epoch 5/10\n",
            "\u001b[1m1033/1033\u001b[0m \u001b[32m━━━━━━━━━━━━━━━━━━━━\u001b[0m\u001b[37m\u001b[0m \u001b[1m82s\u001b[0m 69ms/step - f1_score: 0.5000 - loss: 0.0051\n",
            "Epoch 6/10\n",
            "\u001b[1m1033/1033\u001b[0m \u001b[32m━━━━━━━━━━━━━━━━━━━━\u001b[0m\u001b[37m\u001b[0m \u001b[1m82s\u001b[0m 69ms/step - f1_score: 0.5000 - loss: 0.0030\n",
            "Epoch 7/10\n",
            "\u001b[1m1033/1033\u001b[0m \u001b[32m━━━━━━━━━━━━━━━━━━━━\u001b[0m\u001b[37m\u001b[0m \u001b[1m82s\u001b[0m 70ms/step - f1_score: 0.5000 - loss: 0.0019\n",
            "Epoch 8/10\n",
            "\u001b[1m1033/1033\u001b[0m \u001b[32m━━━━━━━━━━━━━━━━━━━━\u001b[0m\u001b[37m\u001b[0m \u001b[1m82s\u001b[0m 70ms/step - f1_score: 0.5000 - loss: 0.0011\n",
            "Epoch 9/10\n",
            "\u001b[1m1033/1033\u001b[0m \u001b[32m━━━━━━━━━━━━━━━━━━━━\u001b[0m\u001b[37m\u001b[0m \u001b[1m82s\u001b[0m 69ms/step - f1_score: 0.5000 - loss: 7.0127e-04\n",
            "Epoch 10/10\n",
            "\u001b[1m1033/1033\u001b[0m \u001b[32m━━━━━━━━━━━━━━━━━━━━\u001b[0m\u001b[37m\u001b[0m \u001b[1m72s\u001b[0m 70ms/step - f1_score: 0.5000 - loss: 4.3207e-04\n",
            "\u001b[1m345/345\u001b[0m \u001b[32m━━━━━━━━━━━━━━━━━━━━\u001b[0m\u001b[37m\u001b[0m \u001b[1m2s\u001b[0m 4ms/step\n"
          ]
        },
        {
          "output_type": "stream",
          "name": "stderr",
          "text": [
            "/usr/local/lib/python3.10/dist-packages/sklearn/metrics/_classification.py:1569: UserWarning: Note that pos_label (set to 'positivo') is ignored when average != 'binary' (got 'micro'). You may use labels=[pos_label] to specify a single positive class.\n",
            "  warnings.warn(\n"
          ]
        },
        {
          "output_type": "stream",
          "name": "stdout",
          "text": [
            "Epoch 1/10\n",
            "\u001b[1m1033/1033\u001b[0m \u001b[32m━━━━━━━━━━━━━━━━━━━━\u001b[0m\u001b[37m\u001b[0m \u001b[1m73s\u001b[0m 70ms/step - f1_score: 0.5009 - loss: 0.4419\n",
            "Epoch 2/10\n",
            "\u001b[1m1033/1033\u001b[0m \u001b[32m━━━━━━━━━━━━━━━━━━━━\u001b[0m\u001b[37m\u001b[0m \u001b[1m72s\u001b[0m 69ms/step - f1_score: 0.4996 - loss: 0.0434\n",
            "Epoch 3/10\n",
            "\u001b[1m1033/1033\u001b[0m \u001b[32m━━━━━━━━━━━━━━━━━━━━\u001b[0m\u001b[37m\u001b[0m \u001b[1m72s\u001b[0m 69ms/step - f1_score: 0.5000 - loss: 0.0164\n",
            "Epoch 4/10\n",
            "\u001b[1m1033/1033\u001b[0m \u001b[32m━━━━━━━━━━━━━━━━━━━━\u001b[0m\u001b[37m\u001b[0m \u001b[1m81s\u001b[0m 69ms/step - f1_score: 0.5000 - loss: 0.0089\n",
            "Epoch 5/10\n",
            "\u001b[1m1033/1033\u001b[0m \u001b[32m━━━━━━━━━━━━━━━━━━━━\u001b[0m\u001b[37m\u001b[0m \u001b[1m82s\u001b[0m 69ms/step - f1_score: 0.5000 - loss: 0.0051\n",
            "Epoch 6/10\n",
            "\u001b[1m1033/1033\u001b[0m \u001b[32m━━━━━━━━━━━━━━━━━━━━\u001b[0m\u001b[37m\u001b[0m \u001b[1m71s\u001b[0m 69ms/step - f1_score: 0.5000 - loss: 0.0031\n",
            "Epoch 7/10\n",
            "\u001b[1m1033/1033\u001b[0m \u001b[32m━━━━━━━━━━━━━━━━━━━━\u001b[0m\u001b[37m\u001b[0m \u001b[1m82s\u001b[0m 69ms/step - f1_score: 0.5000 - loss: 0.0019\n",
            "Epoch 8/10\n",
            "\u001b[1m1033/1033\u001b[0m \u001b[32m━━━━━━━━━━━━━━━━━━━━\u001b[0m\u001b[37m\u001b[0m \u001b[1m83s\u001b[0m 70ms/step - f1_score: 0.5000 - loss: 0.0011\n",
            "Epoch 9/10\n",
            "\u001b[1m1033/1033\u001b[0m \u001b[32m━━━━━━━━━━━━━━━━━━━━\u001b[0m\u001b[37m\u001b[0m \u001b[1m72s\u001b[0m 69ms/step - f1_score: 0.5000 - loss: 6.9318e-04\n",
            "Epoch 10/10\n",
            "\u001b[1m1033/1033\u001b[0m \u001b[32m━━━━━━━━━━━━━━━━━━━━\u001b[0m\u001b[37m\u001b[0m \u001b[1m82s\u001b[0m 70ms/step - f1_score: 0.5000 - loss: 4.4568e-04\n",
            "\u001b[1m345/345\u001b[0m \u001b[32m━━━━━━━━━━━━━━━━━━━━\u001b[0m\u001b[37m\u001b[0m \u001b[1m1s\u001b[0m 4ms/step\n"
          ]
        },
        {
          "output_type": "stream",
          "name": "stderr",
          "text": [
            "/usr/local/lib/python3.10/dist-packages/sklearn/metrics/_classification.py:1569: UserWarning: Note that pos_label (set to 'positivo') is ignored when average != 'binary' (got 'micro'). You may use labels=[pos_label] to specify a single positive class.\n",
            "  warnings.warn(\n"
          ]
        },
        {
          "output_type": "stream",
          "name": "stdout",
          "text": [
            "Epoch 1/5\n",
            "\u001b[1m1033/1033\u001b[0m \u001b[32m━━━━━━━━━━━━━━━━━━━━\u001b[0m\u001b[37m\u001b[0m \u001b[1m73s\u001b[0m 69ms/step - f1_score: 0.5000 - loss: 0.4418\n",
            "Epoch 2/5\n",
            "\u001b[1m1033/1033\u001b[0m \u001b[32m━━━━━━━━━━━━━━━━━━━━\u001b[0m\u001b[37m\u001b[0m \u001b[1m82s\u001b[0m 69ms/step - f1_score: 0.5001 - loss: 0.0438\n",
            "Epoch 3/5\n",
            "\u001b[1m1033/1033\u001b[0m \u001b[32m━━━━━━━━━━━━━━━━━━━━\u001b[0m\u001b[37m\u001b[0m \u001b[1m82s\u001b[0m 70ms/step - f1_score: 0.4999 - loss: 0.0161\n",
            "Epoch 4/5\n",
            "\u001b[1m1033/1033\u001b[0m \u001b[32m━━━━━━━━━━━━━━━━━━━━\u001b[0m\u001b[37m\u001b[0m \u001b[1m83s\u001b[0m 71ms/step - f1_score: 0.5000 - loss: 0.0089\n",
            "Epoch 5/5\n",
            "\u001b[1m1033/1033\u001b[0m \u001b[32m━━━━━━━━━━━━━━━━━━━━\u001b[0m\u001b[37m\u001b[0m \u001b[1m81s\u001b[0m 70ms/step - f1_score: 0.5000 - loss: 0.0052\n",
            "\u001b[1m345/345\u001b[0m \u001b[32m━━━━━━━━━━━━━━━━━━━━\u001b[0m\u001b[37m\u001b[0m \u001b[1m1s\u001b[0m 4ms/step\n"
          ]
        },
        {
          "output_type": "stream",
          "name": "stderr",
          "text": [
            "/usr/local/lib/python3.10/dist-packages/sklearn/metrics/_classification.py:1569: UserWarning: Note that pos_label (set to 'positivo') is ignored when average != 'binary' (got 'micro'). You may use labels=[pos_label] to specify a single positive class.\n",
            "  warnings.warn(\n"
          ]
        },
        {
          "output_type": "stream",
          "name": "stdout",
          "text": [
            "Epoch 1/5\n",
            "\u001b[1m1033/1033\u001b[0m \u001b[32m━━━━━━━━━━━━━━━━━━━━\u001b[0m\u001b[37m\u001b[0m \u001b[1m74s\u001b[0m 70ms/step - f1_score: 0.5006 - loss: 0.4404\n",
            "Epoch 2/5\n",
            "\u001b[1m1033/1033\u001b[0m \u001b[32m━━━━━━━━━━━━━━━━━━━━\u001b[0m\u001b[37m\u001b[0m \u001b[1m72s\u001b[0m 70ms/step - f1_score: 0.5003 - loss: 0.0425\n",
            "Epoch 3/5\n",
            "\u001b[1m1033/1033\u001b[0m \u001b[32m━━━━━━━━━━━━━━━━━━━━\u001b[0m\u001b[37m\u001b[0m \u001b[1m82s\u001b[0m 70ms/step - f1_score: 0.5000 - loss: 0.0163\n",
            "Epoch 4/5\n",
            "\u001b[1m1033/1033\u001b[0m \u001b[32m━━━━━━━━━━━━━━━━━━━━\u001b[0m\u001b[37m\u001b[0m \u001b[1m72s\u001b[0m 70ms/step - f1_score: 0.5000 - loss: 0.0089\n",
            "Epoch 5/5\n",
            "\u001b[1m1033/1033\u001b[0m \u001b[32m━━━━━━━━━━━━━━━━━━━━\u001b[0m\u001b[37m\u001b[0m \u001b[1m72s\u001b[0m 70ms/step - f1_score: 0.5000 - loss: 0.0051\n",
            "\u001b[1m345/345\u001b[0m \u001b[32m━━━━━━━━━━━━━━━━━━━━\u001b[0m\u001b[37m\u001b[0m \u001b[1m1s\u001b[0m 4ms/step\n"
          ]
        },
        {
          "output_type": "stream",
          "name": "stderr",
          "text": [
            "/usr/local/lib/python3.10/dist-packages/sklearn/metrics/_classification.py:1569: UserWarning: Note that pos_label (set to 'positivo') is ignored when average != 'binary' (got 'micro'). You may use labels=[pos_label] to specify a single positive class.\n",
            "  warnings.warn(\n"
          ]
        },
        {
          "output_type": "stream",
          "name": "stdout",
          "text": [
            "Epoch 1/5\n",
            "\u001b[1m1033/1033\u001b[0m \u001b[32m━━━━━━━━━━━━━━━━━━━━\u001b[0m\u001b[37m\u001b[0m \u001b[1m73s\u001b[0m 69ms/step - f1_score: 0.4950 - loss: 0.4425\n",
            "Epoch 2/5\n",
            "\u001b[1m1033/1033\u001b[0m \u001b[32m━━━━━━━━━━━━━━━━━━━━\u001b[0m\u001b[37m\u001b[0m \u001b[1m72s\u001b[0m 69ms/step - f1_score: 0.5001 - loss: 0.0434\n",
            "Epoch 3/5\n",
            "\u001b[1m1033/1033\u001b[0m \u001b[32m━━━━━━━━━━━━━━━━━━━━\u001b[0m\u001b[37m\u001b[0m \u001b[1m82s\u001b[0m 70ms/step - f1_score: 0.5000 - loss: 0.0164\n",
            "Epoch 4/5\n",
            "\u001b[1m1033/1033\u001b[0m \u001b[32m━━━━━━━━━━━━━━━━━━━━\u001b[0m\u001b[37m\u001b[0m \u001b[1m72s\u001b[0m 70ms/step - f1_score: 0.5000 - loss: 0.0087\n",
            "Epoch 5/5\n",
            "\u001b[1m1033/1033\u001b[0m \u001b[32m━━━━━━━━━━━━━━━━━━━━\u001b[0m\u001b[37m\u001b[0m \u001b[1m82s\u001b[0m 70ms/step - f1_score: 0.5000 - loss: 0.0051\n",
            "\u001b[1m345/345\u001b[0m \u001b[32m━━━━━━━━━━━━━━━━━━━━\u001b[0m\u001b[37m\u001b[0m \u001b[1m2s\u001b[0m 4ms/step\n"
          ]
        },
        {
          "output_type": "stream",
          "name": "stderr",
          "text": [
            "/usr/local/lib/python3.10/dist-packages/sklearn/metrics/_classification.py:1569: UserWarning: Note that pos_label (set to 'positivo') is ignored when average != 'binary' (got 'micro'). You may use labels=[pos_label] to specify a single positive class.\n",
            "  warnings.warn(\n"
          ]
        },
        {
          "output_type": "stream",
          "name": "stdout",
          "text": [
            "Epoch 1/5\n",
            "\u001b[1m1033/1033\u001b[0m \u001b[32m━━━━━━━━━━━━━━━━━━━━\u001b[0m\u001b[37m\u001b[0m \u001b[1m73s\u001b[0m 70ms/step - f1_score: 0.4975 - loss: 0.4421\n",
            "Epoch 2/5\n",
            "\u001b[1m1033/1033\u001b[0m \u001b[32m━━━━━━━━━━━━━━━━━━━━\u001b[0m\u001b[37m\u001b[0m \u001b[1m73s\u001b[0m 70ms/step - f1_score: 0.4998 - loss: 0.0445\n",
            "Epoch 3/5\n",
            "\u001b[1m1033/1033\u001b[0m \u001b[32m━━━━━━━━━━━━━━━━━━━━\u001b[0m\u001b[37m\u001b[0m \u001b[1m72s\u001b[0m 70ms/step - f1_score: 0.5000 - loss: 0.0168\n",
            "Epoch 4/5\n",
            "\u001b[1m1033/1033\u001b[0m \u001b[32m━━━━━━━━━━━━━━━━━━━━\u001b[0m\u001b[37m\u001b[0m \u001b[1m82s\u001b[0m 69ms/step - f1_score: 0.5000 - loss: 0.0087\n",
            "Epoch 5/5\n",
            "\u001b[1m1033/1033\u001b[0m \u001b[32m━━━━━━━━━━━━━━━━━━━━\u001b[0m\u001b[37m\u001b[0m \u001b[1m72s\u001b[0m 69ms/step - f1_score: 0.5000 - loss: 0.0051\n",
            "\u001b[1m345/345\u001b[0m \u001b[32m━━━━━━━━━━━━━━━━━━━━\u001b[0m\u001b[37m\u001b[0m \u001b[1m2s\u001b[0m 5ms/step\n"
          ]
        },
        {
          "output_type": "stream",
          "name": "stderr",
          "text": [
            "/usr/local/lib/python3.10/dist-packages/sklearn/metrics/_classification.py:1569: UserWarning: Note that pos_label (set to 'positivo') is ignored when average != 'binary' (got 'micro'). You may use labels=[pos_label] to specify a single positive class.\n",
            "  warnings.warn(\n"
          ]
        },
        {
          "output_type": "stream",
          "name": "stdout",
          "text": [
            "Epoch 1/5\n",
            "\u001b[1m1377/1377\u001b[0m \u001b[32m━━━━━━━━━━━━━━━━━━━━\u001b[0m\u001b[37m\u001b[0m \u001b[1m104s\u001b[0m 74ms/step - f1_score: 0.4974 - loss: 0.4161\n",
            "Epoch 2/5\n",
            "\u001b[1m1377/1377\u001b[0m \u001b[32m━━━━━━━━━━━━━━━━━━━━\u001b[0m\u001b[37m\u001b[0m \u001b[1m98s\u001b[0m 71ms/step - f1_score: 0.4997 - loss: 0.0369\n",
            "Epoch 3/5\n",
            "\u001b[1m1377/1377\u001b[0m \u001b[32m━━━━━━━━━━━━━━━━━━━━\u001b[0m\u001b[37m\u001b[0m \u001b[1m100s\u001b[0m 73ms/step - f1_score: 0.5000 - loss: 0.0134\n",
            "Epoch 4/5\n",
            "\u001b[1m1377/1377\u001b[0m \u001b[32m━━━━━━━━━━━━━━━━━━━━\u001b[0m\u001b[37m\u001b[0m \u001b[1m145s\u001b[0m 75ms/step - f1_score: 0.5000 - loss: 0.0065\n",
            "Epoch 5/5\n",
            "\u001b[1m1377/1377\u001b[0m \u001b[32m━━━━━━━━━━━━━━━━━━━━\u001b[0m\u001b[37m\u001b[0m \u001b[1m140s\u001b[0m 74ms/step - f1_score: 0.5000 - loss: 0.0034\n"
          ]
        }
      ],
      "source": [
        "from sklearn.model_selection import StratifiedKFold, KFold,RandomizedSearchCV\n",
        "\n",
        "epochs = [10, 5]\n",
        "batches = [35, 50]\n",
        "\n",
        "param_grid = dict( epochs=epochs, batch_size=batches)\n",
        "\n",
        "#Cantidad de combinaciones que quiero porbar\n",
        "n=2\n",
        "#Cantidad de splits para el Cross Validation\n",
        "folds=4\n",
        "#Kfold estratificado\n",
        "kfoldcv = KFold(n_splits=folds)\n",
        "\n",
        "#Metrica que quiero optimizar F1 Score\n",
        "scorer_fn = make_scorer(f1_score, average='micro',pos_label='positivo')\n",
        "\n",
        "#Random Search Cross Validation\n",
        "randomcv = RandomizedSearchCV(estimator=modelo_cv,\n",
        "                              param_distributions = param_grid,\n",
        "                              scoring=scorer_fn,\n",
        "                              cv=kfoldcv,\n",
        "                              random_state=20,\n",
        "                              n_iter=n,\n",
        "                              error_score='raise')\n",
        "#Busco los hiperparamtros que optimizan F1 Score\n",
        "randomcv.fit(x_train, y_train);"
      ]
    },
    {
      "cell_type": "code",
      "source": [
        "#Mejores hiperparametros\n",
        "print(randomcv.best_params_)\n",
        "#Mejor métrica\n",
        "print(randomcv.best_score_)"
      ],
      "metadata": {
        "colab": {
          "base_uri": "https://localhost:8080/"
        },
        "outputId": "166c0cc3-f654-479f-9b32-596f9c7fe31a",
        "id": "fCbnS5Rmzk-p"
      },
      "execution_count": null,
      "outputs": [
        {
          "output_type": "stream",
          "name": "stdout",
          "text": [
            "{'epochs': 5, 'batch_size': 35}\n",
            "0.8932314614643222\n"
          ]
        }
      ]
    },
    {
      "cell_type": "code",
      "source": [
        "#Mejor estimador\n",
        "best_keras=randomcv.best_estimator_\n",
        "\n",
        "#Predicción con mejor estimador\n",
        "y_pred_keras=best_keras.predict(x_test)"
      ],
      "metadata": {
        "id": "ZgRBfPkkzk-q",
        "colab": {
          "base_uri": "https://localhost:8080/"
        },
        "outputId": "f96ec85c-44af-4b0c-9e0f-30fc7d0ed521"
      },
      "execution_count": null,
      "outputs": [
        {
          "output_type": "stream",
          "name": "stdout",
          "text": [
            "\u001b[1m246/246\u001b[0m \u001b[32m━━━━━━━━━━━━━━━━━━━━\u001b[0m\u001b[37m\u001b[0m \u001b[1m1s\u001b[0m 3ms/step\n"
          ]
        }
      ]
    },
    {
      "cell_type": "code",
      "source": [
        "df_pred_keras = pd.DataFrame()\n",
        "df_pred_keras['ID'] = df_test['ID']\n",
        "df_pred_keras['sentimiento'] = y_pred_keras"
      ],
      "metadata": {
        "id": "1nE0Lo8tu-Jy"
      },
      "execution_count": null,
      "outputs": []
    },
    {
      "cell_type": "code",
      "source": [
        "df_pred_keras.to_csv('df_pred_rn_keras_tf.csv', index=False)"
      ],
      "metadata": {
        "id": "xcMzkjDdu-J_"
      },
      "execution_count": null,
      "outputs": []
    },
    {
      "cell_type": "code",
      "source": [
        "import joblib"
      ],
      "metadata": {
        "id": "-ABDvVlVDNbH"
      },
      "execution_count": null,
      "outputs": []
    },
    {
      "cell_type": "code",
      "source": [
        "joblib.dump(best_keras,'rn_keras_tf.joblib')"
      ],
      "metadata": {
        "id": "CSqvFFFRC-23",
        "colab": {
          "base_uri": "https://localhost:8080/"
        },
        "outputId": "b9382259-82a3-49bc-c33e-6a2db4d4a383"
      },
      "execution_count": null,
      "outputs": [
        {
          "output_type": "execute_result",
          "data": {
            "text/plain": [
              "['rn_keras_tf.joblib']"
            ]
          },
          "metadata": {},
          "execution_count": 20
        }
      ]
    }
  ]
}