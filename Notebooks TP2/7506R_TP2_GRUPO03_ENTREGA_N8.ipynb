{
  "nbformat": 4,
  "nbformat_minor": 0,
  "metadata": {
    "colab": {
      "provenance": [],
      "collapsed_sections": [
        "K7AcSlIzLw9r",
        "237yEWU0Lwo9",
        "lecnxP0oFClF",
        "_iLgLwd_Okuu",
        "YvjHcFJZaVut",
        "Svssv6q5xISJ",
        "BTc1IfCUeOec",
        "AMa5L39Bi_u5"
      ]
    },
    "kernelspec": {
      "name": "python3",
      "display_name": "Python 3"
    },
    "language_info": {
      "name": "python"
    }
  },
  "cells": [
    {
      "cell_type": "code",
      "execution_count": null,
      "metadata": {
        "id": "8UZA6f7wZEcf"
      },
      "outputs": [],
      "source": [
        "import pandas as pd\n",
        "import numpy as np\n",
        "import joblib"
      ]
    },
    {
      "cell_type": "code",
      "execution_count": null,
      "metadata": {
        "colab": {
          "base_uri": "https://localhost:8080/"
        },
        "id": "-owToOaWt3xi",
        "outputId": "81913085-1717-4d71-dee5-d1d05f28678b"
      },
      "outputs": [
        {
          "output_type": "stream",
          "name": "stdout",
          "text": [
            "Mounted at /content/drive\n"
          ]
        }
      ],
      "source": [
        "from google.colab import drive\n",
        "\n",
        "drive.mount('/content/drive')"
      ]
    },
    {
      "cell_type": "markdown",
      "source": [
        "Vamos a trabajar con un conjunto de datos de 4.800 críticas de peliculas de usuarios de la página web de votación y recomendación de películas filmaffinity (www.filmaffinity.com) para calcular las metricas de los modelos.\n",
        "\n",
        "Dicho data set es proporcionado por *elmundodelosdatos* y fue extraido del siguiente repositorio (https://raw.githubusercontent.com/captain500/elmundodelosdatos/main/5_sentiment_analysis/data/criticas.csv)\n",
        "\n",
        "Dicho dataset fue bajado y paso por el mismo preprosesamiento que se realizo para los datasets de train y test."
      ],
      "metadata": {
        "id": "YLvHqnxDBjxm"
      }
    },
    {
      "cell_type": "code",
      "source": [
        "path = '/content/drive/MyDrive/DataSet prueba/df_prueba_preprocesado.csv'\n",
        "df = pd.read_csv(path)\n",
        "url = 'https://media.githubusercontent.com/media/ricadolcvuba/Dataset-TP2/main/df_train_preprocesado.csv'\n",
        "df_train = pd.read_csv(url)"
      ],
      "metadata": {
        "id": "JjDcV6DQaADK"
      },
      "execution_count": null,
      "outputs": []
    },
    {
      "cell_type": "code",
      "source": [
        "x_test = df['review_es']\n",
        "x_train = df_train['review_es']\n",
        "y_test = df['sentimiento']"
      ],
      "metadata": {
        "id": "gLL6bMENaDMj"
      },
      "execution_count": null,
      "outputs": []
    },
    {
      "cell_type": "markdown",
      "metadata": {
        "id": "K7AcSlIzLw9r"
      },
      "source": [
        "#XGBoost"
      ]
    },
    {
      "cell_type": "code",
      "execution_count": null,
      "metadata": {
        "id": "lNMg4VOuLw2N"
      },
      "outputs": [],
      "source": [
        "model_xgb = joblib.load('/content/drive/MyDrive/modelos/xgboost_n10cv10.joblib')"
      ]
    },
    {
      "cell_type": "markdown",
      "metadata": {
        "id": "237yEWU0Lwo9"
      },
      "source": [
        "#Random forest"
      ]
    },
    {
      "cell_type": "code",
      "execution_count": null,
      "metadata": {
        "id": "pbsS7KlzLwgE"
      },
      "outputs": [],
      "source": [
        "model_rf = joblib.load('/content/drive/MyDrive/modelos/rf_n10cv10.joblib')"
      ]
    },
    {
      "cell_type": "markdown",
      "metadata": {
        "id": "lecnxP0oFClF"
      },
      "source": [
        "#NB"
      ]
    },
    {
      "cell_type": "code",
      "execution_count": null,
      "metadata": {
        "id": "dIvGjseoFF92"
      },
      "outputs": [],
      "source": [
        "model_nb = joblib.load('/content/drive/MyDrive/modelos/best_nb.joblib')"
      ]
    },
    {
      "cell_type": "markdown",
      "metadata": {
        "id": "_iLgLwd_Okuu"
      },
      "source": [
        "#RN"
      ]
    },
    {
      "cell_type": "code",
      "execution_count": null,
      "metadata": {
        "id": "6ft9qsouOkuu"
      },
      "outputs": [],
      "source": [
        "model_rn = joblib.load('/content/drive/MyDrive/modelos/best_nb.joblib')"
      ]
    },
    {
      "cell_type": "markdown",
      "source": [
        "#Voting con Red neuronal, XGBoost y Random Forest"
      ],
      "metadata": {
        "id": "YvjHcFJZaVut"
      }
    },
    {
      "cell_type": "code",
      "source": [
        "model_voting = joblib.load('/content/drive/MyDrive/modelos/voting_rn_xgb_rf.joblib')"
      ],
      "metadata": {
        "id": "VdqbG3BFdOL-"
      },
      "execution_count": null,
      "outputs": []
    },
    {
      "cell_type": "markdown",
      "metadata": {
        "id": "Svssv6q5xISJ"
      },
      "source": [
        "#Vectorizar"
      ]
    },
    {
      "cell_type": "code",
      "execution_count": null,
      "metadata": {
        "colab": {
          "base_uri": "https://localhost:8080/"
        },
        "id": "ekI0RTMEiYYz",
        "outputId": "09c977b5-c5eb-45ec-dd5e-143fef71342e"
      },
      "outputs": [
        {
          "output_type": "stream",
          "name": "stderr",
          "text": [
            "[nltk_data] Downloading package stopwords to /root/nltk_data...\n",
            "[nltk_data]   Package stopwords is already up-to-date!\n"
          ]
        },
        {
          "output_type": "execute_result",
          "data": {
            "text/plain": [
              "True"
            ]
          },
          "metadata": {},
          "execution_count": 47
        }
      ],
      "source": [
        "from sklearn.feature_extraction.text import CountVectorizer\n",
        "import nltk\n",
        "from nltk.corpus import stopwords\n",
        "from nltk import word_tokenize\n",
        "nltk.download('stopwords')"
      ]
    },
    {
      "cell_type": "code",
      "execution_count": null,
      "metadata": {
        "id": "-3XwJZDhnVPG"
      },
      "outputs": [],
      "source": [
        "my_stop_words = stopwords.words('spanish')\n",
        "\n",
        "# Instanciamos el CV\n",
        "#Configurar el vectorizador de palabras para convertir el texto en una representación numérica.\n",
        "vec = CountVectorizer(stop_words=my_stop_words, ngram_range=(1,2))\n",
        "\n",
        "x_train_aux = vec.fit_transform(x_train)\n",
        "\n",
        "x_test_aux = vec.transform(x_test)"
      ]
    },
    {
      "cell_type": "markdown",
      "source": [
        "#Predicciones"
      ],
      "metadata": {
        "id": "BTc1IfCUeOec"
      }
    },
    {
      "cell_type": "code",
      "source": [
        "y_pred_nb = model_nb.predict(x_test_aux)\n",
        "y_pred_rf = model_rf.predict(x_test_aux)\n",
        "y_pred_rn = model_rn.predict(x_test_aux)\n",
        "y_pred_voting = model_voting.predict(x_test_aux)"
      ],
      "metadata": {
        "id": "ghp7U3zMeTA6"
      },
      "execution_count": null,
      "outputs": []
    },
    {
      "cell_type": "code",
      "source": [
        "y_pred_nb"
      ],
      "metadata": {
        "colab": {
          "base_uri": "https://localhost:8080/"
        },
        "id": "ebYSQHUPf_3l",
        "outputId": "0995591d-6985-4eae-88d8-d7586e467777"
      },
      "execution_count": null,
      "outputs": [
        {
          "output_type": "execute_result",
          "data": {
            "text/plain": [
              "array(['negativo', 'negativo', 'negativo', ..., 'negativo', 'positivo',\n",
              "       'positivo'], dtype='<U8')"
            ]
          },
          "metadata": {},
          "execution_count": 60
        }
      ]
    },
    {
      "cell_type": "code",
      "source": [
        "y_pred_rf"
      ],
      "metadata": {
        "colab": {
          "base_uri": "https://localhost:8080/"
        },
        "id": "AjtIusLfgCVC",
        "outputId": "d8a8e9b3-a9b0-4768-bebb-a715be8a6203"
      },
      "execution_count": null,
      "outputs": [
        {
          "output_type": "execute_result",
          "data": {
            "text/plain": [
              "array(['negativo', 'negativo', 'positivo', ..., 'negativo', 'positivo',\n",
              "       'positivo'], dtype=object)"
            ]
          },
          "metadata": {},
          "execution_count": 61
        }
      ]
    },
    {
      "cell_type": "code",
      "source": [
        "y_pred_rn"
      ],
      "metadata": {
        "colab": {
          "base_uri": "https://localhost:8080/"
        },
        "id": "R2BmWt6QgGyS",
        "outputId": "37557c7b-93cf-4fe9-f799-6827f9bf17f5"
      },
      "execution_count": null,
      "outputs": [
        {
          "output_type": "execute_result",
          "data": {
            "text/plain": [
              "array(['negativo', 'negativo', 'negativo', ..., 'negativo', 'positivo',\n",
              "       'positivo'], dtype='<U8')"
            ]
          },
          "metadata": {},
          "execution_count": 62
        }
      ]
    },
    {
      "cell_type": "code",
      "source": [
        "y_pred_voting"
      ],
      "metadata": {
        "colab": {
          "base_uri": "https://localhost:8080/"
        },
        "id": "h2GsKjVvgIrJ",
        "outputId": "38e7f0fa-4923-497c-dfee-6105d7809cf5"
      },
      "execution_count": null,
      "outputs": [
        {
          "output_type": "execute_result",
          "data": {
            "text/plain": [
              "array(['negativo', 'negativo', 'positivo', ..., 'negativo', 'positivo',\n",
              "       'positivo'], dtype=object)"
            ]
          },
          "metadata": {},
          "execution_count": 63
        }
      ]
    },
    {
      "cell_type": "markdown",
      "source": [
        "Pasar a binario"
      ],
      "metadata": {
        "id": "rnysYQa3kbaJ"
      }
    },
    {
      "cell_type": "code",
      "source": [
        "y_pred_xgb_binario = model_xgb.predict(x_test_aux)"
      ],
      "metadata": {
        "id": "yHTefPGhifL9"
      },
      "execution_count": null,
      "outputs": []
    },
    {
      "cell_type": "code",
      "source": [
        "y_pred_xgb_binario"
      ],
      "metadata": {
        "colab": {
          "base_uri": "https://localhost:8080/"
        },
        "id": "IoCsGsmxBJvX",
        "outputId": "4f6b71de-5023-47a3-ed2b-5eea4bb442c3"
      },
      "execution_count": null,
      "outputs": [
        {
          "output_type": "execute_result",
          "data": {
            "text/plain": [
              "array([1, 1, 0, ..., 1, 0, 0])"
            ]
          },
          "metadata": {},
          "execution_count": 86
        }
      ]
    },
    {
      "cell_type": "code",
      "source": [
        "y_pred_nb_binario = np.where(y_pred_nb == 'positivo', 0, 1)\n",
        "y_pred_nb_binario"
      ],
      "metadata": {
        "colab": {
          "base_uri": "https://localhost:8080/"
        },
        "id": "DVrQs-P5gvku",
        "outputId": "f803a666-1670-4561-a251-b75507b866fb"
      },
      "execution_count": null,
      "outputs": [
        {
          "output_type": "execute_result",
          "data": {
            "text/plain": [
              "array([1, 1, 1, ..., 1, 0, 0])"
            ]
          },
          "metadata": {},
          "execution_count": 65
        }
      ]
    },
    {
      "cell_type": "code",
      "source": [
        "y_pred_rf_binario = np.where(y_pred_rf == 'positivo', 0, 1)\n",
        "y_pred_rf_binario"
      ],
      "metadata": {
        "colab": {
          "base_uri": "https://localhost:8080/"
        },
        "id": "-_lPhgOVisG4",
        "outputId": "2e0a99f0-3f5b-4c8c-d5de-2e302f2fb1b4"
      },
      "execution_count": null,
      "outputs": [
        {
          "output_type": "execute_result",
          "data": {
            "text/plain": [
              "array([1, 1, 0, ..., 1, 0, 0])"
            ]
          },
          "metadata": {},
          "execution_count": 66
        }
      ]
    },
    {
      "cell_type": "code",
      "source": [
        "y_pred_rn_binario = np.where(y_pred_rn == 'positivo', 0, 1)\n",
        "y_pred_rn_binario"
      ],
      "metadata": {
        "colab": {
          "base_uri": "https://localhost:8080/"
        },
        "id": "EPmg1wo2lGUe",
        "outputId": "5faca9c2-6483-43de-b204-7d8e051c75ad"
      },
      "execution_count": null,
      "outputs": [
        {
          "output_type": "execute_result",
          "data": {
            "text/plain": [
              "array([1, 1, 1, ..., 1, 0, 0])"
            ]
          },
          "metadata": {},
          "execution_count": 67
        }
      ]
    },
    {
      "cell_type": "code",
      "source": [
        "y_pred_voting_binario = np.where(y_pred_voting == 'positivo', 0, 1)\n",
        "y_pred_voting_binario"
      ],
      "metadata": {
        "colab": {
          "base_uri": "https://localhost:8080/"
        },
        "id": "tLNarJcplUYm",
        "outputId": "44aa0733-ff14-4208-8ac0-e86ffe91879d"
      },
      "execution_count": null,
      "outputs": [
        {
          "output_type": "execute_result",
          "data": {
            "text/plain": [
              "array([1, 1, 0, ..., 1, 0, 0])"
            ]
          },
          "metadata": {},
          "execution_count": 68
        }
      ]
    },
    {
      "cell_type": "markdown",
      "source": [
        "#Metricas y matriz de confusion"
      ],
      "metadata": {
        "id": "AMa5L39Bi_u5"
      }
    },
    {
      "cell_type": "code",
      "source": [
        "from sklearn.metrics import precision_score, recall_score, f1_score, accuracy_score, confusion_matrix"
      ],
      "metadata": {
        "id": "MWq9CAtOjE2K"
      },
      "execution_count": null,
      "outputs": []
    },
    {
      "cell_type": "code",
      "source": [
        "def calcular_metricas_y_matriz_confusion(y_test, y_pred):\n",
        "\n",
        "    #calcular las métricas\n",
        "    precision = precision_score(y_test, y_pred)\n",
        "    recall = recall_score(y_test, y_pred)\n",
        "    f1 = f1_score(y_test, y_pred)\n",
        "    accuracy = accuracy_score(y_test, y_pred)\n",
        "\n",
        "    #calcular la matriz de confusión\n",
        "    cm = confusion_matrix(y_test, y_pred)\n",
        "\n",
        "    return precision, recall, f1, accuracy, cm"
      ],
      "metadata": {
        "id": "9yL97kn4jJc3"
      },
      "execution_count": null,
      "outputs": []
    },
    {
      "cell_type": "code",
      "source": [
        "import matplotlib.pyplot as plt\n",
        "import seaborn as sns\n",
        "\n",
        "def print_metricas_y_matriz_confusion(precision, recall, f1, accuracy, cm, modelo):\n",
        "  print(modelo)\n",
        "  print(f\"Precisión: {precision}\")\n",
        "  print(f\"Recall: {recall}\")\n",
        "  print(f\"F1-score: {f1}\")\n",
        "  print(f\"Accuracy: {accuracy}\")\n",
        "  print()\n",
        "\n",
        "  #Matriz de confusion\n",
        "  print(\"Matriz de confusión:\")\n",
        "  sns.heatmap(cm, annot=True, cmap=\"Blues\", fmt=\"d\", annot_kws={\"size\": 16})\n",
        "  plt.xlabel('Predicción')\n",
        "  plt.ylabel('Valor Real')\n",
        "  plt.title('Matriz de Confusión - ' + modelo)\n",
        "  plt.show()\n",
        "\n"
      ],
      "metadata": {
        "id": "b7_AxFVwm655"
      },
      "execution_count": null,
      "outputs": []
    },
    {
      "cell_type": "code",
      "source": [
        "y_test_binario = np.array(y_test)"
      ],
      "metadata": {
        "id": "1XQheVfCl0dB"
      },
      "execution_count": null,
      "outputs": []
    },
    {
      "cell_type": "code",
      "source": [
        "y_test_binario"
      ],
      "metadata": {
        "colab": {
          "base_uri": "https://localhost:8080/"
        },
        "id": "JoNjHAPkmDeV",
        "outputId": "db2e4a0b-7f6c-418b-b76d-dc5bc4b00f1e"
      },
      "execution_count": null,
      "outputs": [
        {
          "output_type": "execute_result",
          "data": {
            "text/plain": [
              "array([1, 1, 1, ..., 0, 0, 0])"
            ]
          },
          "metadata": {},
          "execution_count": 77
        }
      ]
    },
    {
      "cell_type": "code",
      "source": [
        "#y_test_binario = np.where(y_test == 'positivo', 0, 1)\n",
        "#y_test_binario"
      ],
      "metadata": {
        "id": "1LxTnsoh20sP"
      },
      "execution_count": null,
      "outputs": []
    },
    {
      "cell_type": "markdown",
      "source": [
        "**NB**"
      ],
      "metadata": {
        "id": "fFV5swE0ju-7"
      }
    },
    {
      "cell_type": "code",
      "source": [
        "precision_nb, recall_nb, f1_nb, accuracy_nb, cm_nb = calcular_metricas_y_matriz_confusion(y_test_binario, y_pred_nb_binario)"
      ],
      "metadata": {
        "id": "H1mCO6PJjtGD"
      },
      "execution_count": null,
      "outputs": []
    },
    {
      "cell_type": "code",
      "source": [
        "print_metricas_y_matriz_confusion(precision_nb, recall_nb, f1_nb, accuracy_nb, cm_nb, \"Modelo Naive Bayes:\")"
      ],
      "metadata": {
        "colab": {
          "base_uri": "https://localhost:8080/",
          "height": 593
        },
        "id": "kMdHHmrInd9W",
        "outputId": "582f8928-76eb-46c6-f3c1-bb94d726fd86"
      },
      "execution_count": null,
      "outputs": [
        {
          "output_type": "stream",
          "name": "stdout",
          "text": [
            "Modelo Naive Bayes:\n",
            "Precisión: 0.8530413625304136\n",
            "Recall: 0.7304166666666667\n",
            "F1-score: 0.7869809203142537\n",
            "Accuracy: 0.8022916666666666\n",
            "\n",
            "Matriz de confusión:\n"
          ]
        },
        {
          "output_type": "display_data",
          "data": {
            "text/plain": [
              "<Figure size 640x480 with 2 Axes>"
            ],
            "image/png": "[encoded data removed]"
          },
          "metadata": {}
        }
      ]
    },
    {
      "cell_type": "markdown",
      "source": [
        "**XGBoost**"
      ],
      "metadata": {
        "id": "zIBy10bpjyCN"
      }
    },
    {
      "cell_type": "code",
      "source": [
        "precision_xgb, recall_xgb, f1_xgb, accuracy_xgb, cm_xgb = calcular_metricas_y_matriz_confusion(y_test_binario, y_pred_xgb_binario)"
      ],
      "metadata": {
        "id": "Kz2C8hJdjyCN"
      },
      "execution_count": null,
      "outputs": []
    },
    {
      "cell_type": "code",
      "source": [
        "print_metricas_y_matriz_confusion(precision_xgb, recall_xgb, f1_xgb, accuracy_xgb, cm_xgb, \"Modelo XGboost:\")"
      ],
      "metadata": {
        "colab": {
          "base_uri": "https://localhost:8080/",
          "height": 593
        },
        "id": "56wd3RnTpEZd",
        "outputId": "687dbef3-9e5b-4afa-feb4-4d72fb6d19ef"
      },
      "execution_count": null,
      "outputs": [
        {
          "output_type": "stream",
          "name": "stdout",
          "text": [
            "Modelo XGboost:\n",
            "Precisión: 0.8200276880479926\n",
            "Recall: 0.7404166666666666\n",
            "F1-score: 0.7781913728924895\n",
            "Accuracy: 0.7889583333333333\n",
            "\n",
            "Matriz de confusión:\n"
          ]
        },
        {
          "output_type": "display_data",
          "data": {
            "text/plain": [
              "<Figure size 640x480 with 2 Axes>"
            ],
            "image/png": "[encoded data removed]"
          },
          "metadata": {}
        }
      ]
    },
    {
      "cell_type": "markdown",
      "source": [
        "**Random Forest**"
      ],
      "metadata": {
        "id": "c8ociumojyNC"
      }
    },
    {
      "cell_type": "code",
      "source": [
        "precision_rf, recall_rf, f1_rf, accuracy_rf, cm_rf = calcular_metricas_y_matriz_confusion(y_test_binario, y_pred_rf_binario)"
      ],
      "metadata": {
        "id": "3gMRMf9cjyNC"
      },
      "execution_count": null,
      "outputs": []
    },
    {
      "cell_type": "code",
      "source": [
        "print_metricas_y_matriz_confusion(precision_rf, recall_rf, f1_rf, accuracy_rf, cm_rf, \"Modelo Random Forest:\")"
      ],
      "metadata": {
        "colab": {
          "base_uri": "https://localhost:8080/",
          "height": 593
        },
        "id": "JKMny6gdpyZm",
        "outputId": "a77b379d-8260-4f79-8e76-d678d462fd22"
      },
      "execution_count": null,
      "outputs": [
        {
          "output_type": "stream",
          "name": "stdout",
          "text": [
            "Modelo Random Forest:\n",
            "Precisión: 0.8450555261766262\n",
            "Recall: 0.6658333333333334\n",
            "F1-score: 0.7448147285015149\n",
            "Accuracy: 0.771875\n",
            "\n",
            "Matriz de confusión:\n"
          ]
        },
        {
          "output_type": "display_data",
          "data": {
            "text/plain": [
              "<Figure size 640x480 with 2 Axes>"
            ],
            "image/png": "[encoded data removed]"
          },
          "metadata": {}
        }
      ]
    },
    {
      "cell_type": "markdown",
      "source": [
        "**Red Neuronal**"
      ],
      "metadata": {
        "id": "kQqFnJWijyf9"
      }
    },
    {
      "cell_type": "code",
      "source": [
        "precision_rn, recall_rn, f1_rn, accuracy_rn, cm_rn = calcular_metricas_y_matriz_confusion(y_test_binario, y_pred_rn_binario)"
      ],
      "metadata": {
        "id": "D8j4u8fbjyf9"
      },
      "execution_count": null,
      "outputs": []
    },
    {
      "cell_type": "code",
      "source": [
        "print_metricas_y_matriz_confusion(precision_rn, recall_rn, f1_rn, accuracy_rn, cm_rn, \"Modelo Red Neuronal:\")"
      ],
      "metadata": {
        "colab": {
          "base_uri": "https://localhost:8080/",
          "height": 593
        },
        "id": "BvZxEIaJqAd1",
        "outputId": "430b34e9-6440-4fcb-fcc1-31f73c51d61f"
      },
      "execution_count": null,
      "outputs": [
        {
          "output_type": "stream",
          "name": "stdout",
          "text": [
            "Modelo Red Neuronal:\n",
            "Precisión: 0.8530413625304136\n",
            "Recall: 0.7304166666666667\n",
            "F1-score: 0.7869809203142537\n",
            "Accuracy: 0.8022916666666666\n",
            "\n",
            "Matriz de confusión:\n"
          ]
        },
        {
          "output_type": "display_data",
          "data": {
            "text/plain": [
              "<Figure size 640x480 with 2 Axes>"
            ],
            "image/png": "[encoded data removed]"
          },
          "metadata": {}
        }
      ]
    },
    {
      "cell_type": "markdown",
      "source": [
        "**Ensamble voting**"
      ],
      "metadata": {
        "id": "omAXSr9Yjynz"
      }
    },
    {
      "cell_type": "code",
      "source": [
        "precision_voting, recall_voting, f1_voting, accuracy_voting, cm_voting = calcular_metricas_y_matriz_confusion(y_test_binario, y_pred_voting_binario)"
      ],
      "metadata": {
        "id": "nvRHHlWjjynz"
      },
      "execution_count": null,
      "outputs": []
    },
    {
      "cell_type": "code",
      "source": [
        "print_metricas_y_matriz_confusion(precision_voting, recall_voting, f1_voting, accuracy_voting, cm_voting, \"Modelo Ensamble voting:\")"
      ],
      "metadata": {
        "colab": {
          "base_uri": "https://localhost:8080/",
          "height": 593
        },
        "id": "xSE0EG5qqI2I",
        "outputId": "1dcdf953-e01d-44d2-fd7f-bc34d17ecaac"
      },
      "execution_count": null,
      "outputs": [
        {
          "output_type": "stream",
          "name": "stdout",
          "text": [
            "Modelo Ensamble voting:\n",
            "Precisión: 0.8728728728728729\n",
            "Recall: 0.7266666666666667\n",
            "F1-score: 0.793087767166894\n",
            "Accuracy: 0.8104166666666667\n",
            "\n",
            "Matriz de confusión:\n"
          ]
        },
        {
          "output_type": "display_data",
          "data": {
            "text/plain": [
              "<Figure size 640x480 with 2 Axes>"
            ],
            "image/png": "[encoded data removed]"
          },
          "metadata": {}
        }
      ]
    }
  ]
}