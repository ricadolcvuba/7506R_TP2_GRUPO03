{
  "nbformat": 4,
  "nbformat_minor": 0,
  "metadata": {
    "colab": {
      "provenance": [],
      "collapsed_sections": [
        "4-mB_F8ZR_HR",
        "Svssv6q5xISJ",
        "hlLNIFrmv-hV"
      ]
    },
    "kernelspec": {
      "name": "python3",
      "display_name": "Python 3"
    },
    "language_info": {
      "name": "python"
    }
  },
  "cells": [
    {
      "cell_type": "code",
      "source": [
        "import matplotlib.pyplot as plt\n",
        "import pandas as pd\n",
        "import numpy as np\n",
        "import re\n",
        "import random\n",
        "\n",
        "from IPython.display import display\n",
        "\n",
        "from nltk import word_tokenize, sent_tokenize\n",
        "\n",
        "from sklearn.model_selection import train_test_split, cross_val_score, GridSearchCV,StratifiedKFold\n",
        "from sklearn.feature_extraction.text import CountVectorizer, TfidfVectorizer\n",
        "from sklearn.naive_bayes import MultinomialNB\n",
        "from sklearn.metrics import confusion_matrix, precision_recall_fscore_support, classification_report\n",
        "from sklearn.dummy import DummyClassifier\n",
        "import nltk"
      ],
      "metadata": {
        "id": "p50hNkHZsosO"
      },
      "execution_count": null,
      "outputs": []
    },
    {
      "cell_type": "code",
      "source": [
        "train_url = 'https://media.githubusercontent.com/media/ricadolcvuba/Dataset-TP2/main/df_train_preprocesado.csv'\n",
        "df_train = pd.read_csv(train_url)\n",
        "x_train = df_train['review_es']\n",
        "y_train = df_train['sentimiento']\n",
        "test_url = 'https://media.githubusercontent.com/media/ricadolcvuba/Dataset-TP2/main/df_test_preprocesado.csv'\n",
        "df_test = pd.read_csv(test_url)\n",
        "x_test = df_test['review_es']"
      ],
      "metadata": {
        "id": "jcx0UcMVsuIg"
      },
      "execution_count": null,
      "outputs": []
    },
    {
      "cell_type": "code",
      "source": [
        "x_train_text = df_train['review_es']\n",
        "y_train_text = df_train['sentimiento']\n",
        "\n",
        "x_test_text = df_test['review_es']"
      ],
      "metadata": {
        "id": "4dLN_ZhykJIJ"
      },
      "execution_count": null,
      "outputs": []
    },
    {
      "cell_type": "markdown",
      "source": [
        "# Random Forest"
      ],
      "metadata": {
        "id": "4-mB_F8ZR_HR"
      }
    },
    {
      "cell_type": "code",
      "source": [
        "from sklearn.ensemble import RandomForestClassifier\n",
        "from sklearn.model_selection import train_test_split, cross_val_score\n",
        "from sklearn.model_selection import StratifiedKFold, KFold,RandomizedSearchCV\n",
        "from sklearn.metrics import make_scorer, f1_score"
      ],
      "metadata": {
        "id": "xa49jbqZR-CP"
      },
      "execution_count": null,
      "outputs": []
    },
    {
      "cell_type": "markdown",
      "source": [
        "## Vectorizar"
      ],
      "metadata": {
        "id": "Svssv6q5xISJ"
      }
    },
    {
      "cell_type": "code",
      "source": [
        "from sklearn.feature_extraction.text import CountVectorizer\n",
        "import nltk\n",
        "from nltk.corpus import stopwords\n",
        "from nltk import word_tokenize\n",
        "nltk.download('stopwords')"
      ],
      "metadata": {
        "colab": {
          "base_uri": "https://localhost:8080/"
        },
        "id": "ekI0RTMEiYYz",
        "outputId": "608398ec-f9b4-4f22-85dd-72e0e11f8b57"
      },
      "execution_count": null,
      "outputs": [
        {
          "output_type": "stream",
          "name": "stderr",
          "text": [
            "[nltk_data] Downloading package stopwords to /root/nltk_data...\n",
            "[nltk_data]   Unzipping corpora/stopwords.zip.\n"
          ]
        },
        {
          "output_type": "execute_result",
          "data": {
            "text/plain": [
              "True"
            ]
          },
          "metadata": {},
          "execution_count": 6
        }
      ]
    },
    {
      "cell_type": "code",
      "source": [
        "my_stop_words = stopwords.words('spanish')\n",
        "\n",
        "# Instanciamos el CV\n",
        "#Configurar el vectorizador de palabras para convertir el texto en una representación numérica.\n",
        "vec = CountVectorizer(stop_words=my_stop_words, ngram_range=(1,2))\n",
        "\n",
        "# Ajustamos el CV y transformamos los datos\n",
        "#transformar los datos de entrenamiento en una matriz numérica.\n",
        "x_train_aux = vec.fit_transform(x_train_text)\n",
        "#Transformar los datos de prueba en la misma representación numérica que el conjunto de entrenamiento\n",
        "x_test = vec.transform(x_test_text)"
      ],
      "metadata": {
        "id": "-3XwJZDhnVPG"
      },
      "execution_count": null,
      "outputs": []
    },
    {
      "cell_type": "markdown",
      "source": [
        "##n=10, folds=10"
      ],
      "metadata": {
        "id": "hlLNIFrmv-hV"
      }
    },
    {
      "cell_type": "code",
      "execution_count": null,
      "metadata": {
        "id": "QC1A9svBuAAK"
      },
      "outputs": [],
      "source": [
        " #Cantidad de combinaciones que quiero porbar\n",
        "n=10\n",
        "#Conjunto de parámetros que quiero usar\n",
        "params_grid = {'criterion':[\"entropy\", \"gini\"],\n",
        "               'min_samples_leaf':list(range(3,15)),\n",
        "               'min_samples_split':list(range(3,20)),\n",
        "               'n_estimators':list(range(25,60)),\n",
        "               }\n",
        "#Cantidad de splits para el Cross Validation\n",
        "folds=10\n",
        "#Kfold estratificado\n",
        "kfoldcv = KFold(n_splits=folds)\n",
        "#Clasificador\n",
        "base_tree = RandomForestClassifier(oob_score=True, random_state=1, n_jobs=-1)\n",
        "#Metrica que quiero optimizar F1 Score\n",
        "scorer_fn = make_scorer(f1_score, average='micro')\n",
        "#Random Search Cross Validation\n",
        "randomcv = RandomizedSearchCV(estimator=base_tree,\n",
        "                              param_distributions = params_grid,\n",
        "                              scoring=scorer_fn,\n",
        "                              cv=kfoldcv,\n",
        "                              random_state=20,\n",
        "                                n_iter=n)\n",
        "#Busco los hiperparamtros que optimizan F1 Score\n",
        " randomcv.fit(x_train_aux, y_train_text);"
      ]
    },
    {
      "cell_type": "markdown",
      "source": [
        "### Prediccion y armado de df"
      ],
      "metadata": {
        "id": "_g7ILKwmyVIs"
      }
    },
    {
      "cell_type": "code",
      "execution_count": null,
      "metadata": {
        "id": "o8wdbPNQ0_Gh",
        "colab": {
          "base_uri": "https://localhost:8080/"
        },
        "outputId": "dcd0ef46-8ad7-40db-ff42-8f4920a794ea"
      },
      "outputs": [
        {
          "output_type": "stream",
          "name": "stdout",
          "text": [
            "{'n_estimators': 57, 'min_samples_split': 14, 'min_samples_leaf': 5, 'criterion': 'entropy'}\n",
            "0.8419435998473993\n"
          ]
        }
      ],
      "source": [
        "  #Mejores hiperparametros del arbol\n",
        "print(randomcv.best_params_)\n",
        "#Mejor métrica\n",
        "print(randomcv.best_score_)"
      ]
    },
    {
      "cell_type": "code",
      "source": [
        "#Mejor estimador\n",
        "best_rf=randomcv.best_estimator_\n",
        "\n",
        "#Predicción con mejor estimador\n",
        "y_pred_rf=best_rf.predict(x_test)"
      ],
      "metadata": {
        "id": "AUBrsXBEyVIt"
      },
      "execution_count": null,
      "outputs": []
    },
    {
      "cell_type": "code",
      "source": [
        "df_pred_rf = pd.DataFrame()\n",
        "df_pred_rf['ID'] = df_test['ID']\n",
        "df_pred_rf['sentimiento'] = y_pred_rf"
      ],
      "metadata": {
        "id": "x6x_TroQMdw3"
      },
      "execution_count": null,
      "outputs": []
    },
    {
      "cell_type": "code",
      "source": [
        "df_pred_rf.to_csv('df_pred_rf_n10cv10.csv', index=False)"
      ],
      "metadata": {
        "id": "TF05FX93yVIt"
      },
      "execution_count": null,
      "outputs": []
    },
    {
      "cell_type": "code",
      "source": [
        "import joblib"
      ],
      "metadata": {
        "id": "-ABDvVlVDNbH"
      },
      "execution_count": null,
      "outputs": []
    },
    {
      "cell_type": "code",
      "source": [
        "joblib.dump(best_rf,'rf_n10cv10.joblib')"
      ],
      "metadata": {
        "id": "CSqvFFFRC-23"
      },
      "execution_count": null,
      "outputs": []
    }
  ]
}