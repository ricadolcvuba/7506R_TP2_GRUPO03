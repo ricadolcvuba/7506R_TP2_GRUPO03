{
  "cells": [
    {
      "cell_type": "code",
      "execution_count": null,
      "metadata": {
        "id": "p50hNkHZsosO"
      },
      "outputs": [],
      "source": [
        "import matplotlib.pyplot as plt\n",
        "import pandas as pd\n",
        "import numpy as np\n",
        "import re\n",
        "import random\n",
        "\n",
        "from IPython.display import display\n",
        "\n",
        "from nltk import word_tokenize, sent_tokenize\n",
        "\n",
        "from sklearn.model_selection import train_test_split, cross_val_score, GridSearchCV,StratifiedKFold\n",
        "from sklearn.feature_extraction.text import CountVectorizer, TfidfVectorizer\n",
        "from sklearn.naive_bayes import MultinomialNB\n",
        "from sklearn.metrics import confusion_matrix, precision_recall_fscore_support, classification_report\n",
        "from sklearn.dummy import DummyClassifier\n",
        "import nltk"
      ]
    },
    {
      "cell_type": "code",
      "execution_count": null,
      "metadata": {
        "colab": {
          "base_uri": "https://localhost:8080/"
        },
        "id": "-owToOaWt3xi",
        "outputId": "fbfd113e-b5d4-4eaa-c11c-d08f0c98184a"
      },
      "outputs": [
        {
          "output_type": "stream",
          "name": "stdout",
          "text": [
            "Mounted at /content/drive\n"
          ]
        }
      ],
      "source": [
        "from google.colab import drive\n",
        "\n",
        "drive.mount('/content/drive')"
      ]
    },
    {
      "cell_type": "code",
      "execution_count": null,
      "metadata": {
        "id": "jcx0UcMVsuIg"
      },
      "outputs": [],
      "source": [
        "train_url = 'https://media.githubusercontent.com/media/ricadolcvuba/Dataset-TP2/main/df_train_preprocesado.csv'\n",
        "df_train = pd.read_csv(train_url)\n",
        "x_train = df_train['review_es']\n",
        "y_train = df_train['sentimiento']\n",
        "test_url = 'https://media.githubusercontent.com/media/ricadolcvuba/Dataset-TP2/main/df_test_preprocesado.csv'\n",
        "df_test = pd.read_csv(test_url)\n",
        "x_test = df_test['review_es']"
      ]
    },
    {
      "cell_type": "markdown",
      "metadata": {
        "id": "Svssv6q5xISJ"
      },
      "source": [
        "#Vectorizar"
      ]
    },
    {
      "cell_type": "code",
      "execution_count": null,
      "metadata": {
        "colab": {
          "base_uri": "https://localhost:8080/"
        },
        "id": "ekI0RTMEiYYz",
        "outputId": "2422b99b-fdfa-4b4f-b79a-de8e3d1e18c5"
      },
      "outputs": [
        {
          "output_type": "stream",
          "name": "stderr",
          "text": [
            "[nltk_data] Downloading package stopwords to /root/nltk_data...\n",
            "[nltk_data]   Unzipping corpora/stopwords.zip.\n"
          ]
        },
        {
          "output_type": "execute_result",
          "data": {
            "text/plain": [
              "True"
            ]
          },
          "metadata": {},
          "execution_count": 4
        }
      ],
      "source": [
        "from sklearn.feature_extraction.text import CountVectorizer\n",
        "import nltk\n",
        "from nltk.corpus import stopwords\n",
        "from nltk import word_tokenize\n",
        "nltk.download('stopwords')"
      ]
    },
    {
      "cell_type": "code",
      "execution_count": null,
      "metadata": {
        "id": "4dLN_ZhykJIJ"
      },
      "outputs": [],
      "source": [
        "x_train_text = df_train['review_es']\n",
        "y_train_text = df_train['sentimiento']\n",
        "\n",
        "x_test_text = df_test['review_es']"
      ]
    },
    {
      "cell_type": "code",
      "execution_count": null,
      "metadata": {
        "id": "-3XwJZDhnVPG"
      },
      "outputs": [],
      "source": [
        "my_stop_words = stopwords.words('spanish')\n",
        "\n",
        "# Instanciamos el CV\n",
        "#Configurar el vectorizador de palabras para convertir el texto en una representación numérica.\n",
        "vec = CountVectorizer(stop_words=my_stop_words, ngram_range=(1,2))\n",
        "\n",
        "# Ajustamos el CV y transformamos los datos\n",
        "#transformar los datos de entrenamiento en una matriz numérica.\n",
        "x_train_aux = vec.fit_transform(x_train_text)\n",
        "#Transformar los datos de prueba en la misma representación numérica que el conjunto de entrenamiento\n",
        "x_test = vec.transform(x_test_text)"
      ]
    },
    {
      "cell_type": "markdown",
      "metadata": {
        "id": "1SDdLKhZFv_g"
      },
      "source": [
        "#Ensamble (Voting)"
      ]
    },
    {
      "cell_type": "code",
      "execution_count": null,
      "metadata": {
        "id": "L3lioV5Dwp56"
      },
      "outputs": [],
      "source": [
        "from sklearn.ensemble import VotingClassifier"
      ]
    },
    {
      "cell_type": "markdown",
      "metadata": {
        "id": "K7AcSlIzLw9r"
      },
      "source": [
        "##XGBoost"
      ]
    },
    {
      "cell_type": "code",
      "execution_count": null,
      "metadata": {
        "id": "lNMg4VOuLw2N"
      },
      "outputs": [],
      "source": [
        "model_xgb = joblib.load('/content/drive/MyDrive/modelos/xgboost_n10cv10.joblib')"
      ]
    },
    {
      "cell_type": "markdown",
      "metadata": {
        "id": "237yEWU0Lwo9"
      },
      "source": [
        "##Random forest"
      ]
    },
    {
      "cell_type": "code",
      "execution_count": null,
      "metadata": {
        "id": "pbsS7KlzLwgE"
      },
      "outputs": [],
      "source": [
        "model_rf = joblib.load('/content/drive/MyDrive/modelos/rf_n10cv10.joblib')"
      ]
    },
    {
      "cell_type": "markdown",
      "metadata": {
        "id": "_iLgLwd_Okuu"
      },
      "source": [
        "##RN"
      ]
    },
    {
      "cell_type": "code",
      "execution_count": null,
      "metadata": {
        "id": "6ft9qsouOkuu"
      },
      "outputs": [],
      "source": [
        "model_rn = joblib.load('/content/drive/MyDrive/modelos/best_nb.joblib')"
      ]
    },
    {
      "cell_type": "markdown",
      "metadata": {
        "id": "AQzMzm9CP_vk"
      },
      "source": [
        "##Voting con Red neuronal, XGBoost y Random Forest"
      ]
    },
    {
      "cell_type": "code",
      "execution_count": null,
      "metadata": {
        "id": "n_SmAHAMP_vs"
      },
      "outputs": [],
      "source": [
        "voting_rn_xgb_rf = VotingClassifier(estimators = [('xgb', model_xgb), ('rn', model_rn), ('rf', model_rf)], voting = 'hard')"
      ]
    },
    {
      "cell_type": "code",
      "execution_count": null,
      "metadata": {
        "colab": {
          "base_uri": "https://localhost:8080/",
          "height": 109
        },
        "outputId": "17d643d8-6815-418f-f839-7e9ec67321b2",
        "id": "sCSsVzoKP_vs"
      },
      "outputs": [
        {
          "output_type": "execute_result",
          "data": {
            "text/plain": [
              "VotingClassifier(estimators=[('xgb',\n",
              "                              XGBClassifier(base_score=None, booster=None,\n",
              "                                            callbacks=None,\n",
              "                                            colsample_bylevel=None,\n",
              "                                            colsample_bynode=None,\n",
              "                                            colsample_bytree=None, device=None,\n",
              "                                            early_stopping_rounds=None,\n",
              "                                            enable_categorical=False,\n",
              "                                            eta=0.6000000000000001,\n",
              "                                            eval_metric=None,\n",
              "                                            feature_types=None,\n",
              "                                            gamma=5.684210526315789,\n",
              "                                            grow_policy=None,\n",
              "                                            importance_type=None,\n",
              "                                            inte...\n",
              "                                            min_child_weight=None, missing=nan,\n",
              "                                            monotone_constraints=None,\n",
              "                                            multi_strategy=None,\n",
              "                                            n_estimators=120, n_jobs=None, ...)),\n",
              "                             ('rn',\n",
              "                              MultinomialNB(alpha=1.0714285714285714,\n",
              "                                            class_prior=[0.2, 0.8],\n",
              "                                            fit_prior=False,\n",
              "                                            force_alpha=True)),\n",
              "                             ('rf',\n",
              "                              RandomForestClassifier(criterion='entropy',\n",
              "                                                     min_samples_leaf=5,\n",
              "                                                     min_samples_split=14,\n",
              "                                                     n_estimators=57, n_jobs=-1,\n",
              "                                                     oob_score=True,\n",
              "                                                     random_state=1))])"
            ],
            "text/html": [
              "<style>#sk-container-id-1 {color: black;background-color: white;}#sk-container-id-1 pre{padding: 0;}#sk-container-id-1 div.sk-toggleable {background-color: white;}#sk-container-id-1 label.sk-toggleable__label {cursor: pointer;display: block;width: 100%;margin-bottom: 0;padding: 0.3em;box-sizing: border-box;text-align: center;}#sk-container-id-1 label.sk-toggleable__label-arrow:before {content: \"▸\";float: left;margin-right: 0.25em;color: #696969;}#sk-container-id-1 label.sk-toggleable__label-arrow:hover:before {color: black;}#sk-container-id-1 div.sk-estimator:hover label.sk-toggleable__label-arrow:before {color: black;}#sk-container-id-1 div.sk-toggleable__content {max-height: 0;max-width: 0;overflow: hidden;text-align: left;background-color: #f0f8ff;}#sk-container-id-1 div.sk-toggleable__content pre {margin: 0.2em;color: black;border-radius: 0.25em;background-color: #f0f8ff;}#sk-container-id-1 input.sk-toggleable__control:checked~div.sk-toggleable__content {max-height: 200px;max-width: 100%;overflow: auto;}#sk-container-id-1 input.sk-toggleable__control:checked~label.sk-toggleable__label-arrow:before {content: \"▾\";}#sk-container-id-1 div.sk-estimator input.sk-toggleable__control:checked~label.sk-toggleable__label {background-color: #d4ebff;}#sk-container-id-1 div.sk-label input.sk-toggleable__control:checked~label.sk-toggleable__label {background-color: #d4ebff;}#sk-container-id-1 input.sk-hidden--visually {border: 0;clip: rect(1px 1px 1px 1px);clip: rect(1px, 1px, 1px, 1px);height: 1px;margin: -1px;overflow: hidden;padding: 0;position: absolute;width: 1px;}#sk-container-id-1 div.sk-estimator {font-family: monospace;background-color: #f0f8ff;border: 1px dotted black;border-radius: 0.25em;box-sizing: border-box;margin-bottom: 0.5em;}#sk-container-id-1 div.sk-estimator:hover {background-color: #d4ebff;}#sk-container-id-1 div.sk-parallel-item::after {content: \"\";width: 100%;border-bottom: 1px solid gray;flex-grow: 1;}#sk-container-id-1 div.sk-label:hover label.sk-toggleable__label {background-color: #d4ebff;}#sk-container-id-1 div.sk-serial::before {content: \"\";position: absolute;border-left: 1px solid gray;box-sizing: border-box;top: 0;bottom: 0;left: 50%;z-index: 0;}#sk-container-id-1 div.sk-serial {display: flex;flex-direction: column;align-items: center;background-color: white;padding-right: 0.2em;padding-left: 0.2em;position: relative;}#sk-container-id-1 div.sk-item {position: relative;z-index: 1;}#sk-container-id-1 div.sk-parallel {display: flex;align-items: stretch;justify-content: center;background-color: white;position: relative;}#sk-container-id-1 div.sk-item::before, #sk-container-id-1 div.sk-parallel-item::before {content: \"\";position: absolute;border-left: 1px solid gray;box-sizing: border-box;top: 0;bottom: 0;left: 50%;z-index: -1;}#sk-container-id-1 div.sk-parallel-item {display: flex;flex-direction: column;z-index: 1;position: relative;background-color: white;}#sk-container-id-1 div.sk-parallel-item:first-child::after {align-self: flex-end;width: 50%;}#sk-container-id-1 div.sk-parallel-item:last-child::after {align-self: flex-start;width: 50%;}#sk-container-id-1 div.sk-parallel-item:only-child::after {width: 0;}#sk-container-id-1 div.sk-dashed-wrapped {border: 1px dashed gray;margin: 0 0.4em 0.5em 0.4em;box-sizing: border-box;padding-bottom: 0.4em;background-color: white;}#sk-container-id-1 div.sk-label label {font-family: monospace;font-weight: bold;display: inline-block;line-height: 1.2em;}#sk-container-id-1 div.sk-label-container {text-align: center;}#sk-container-id-1 div.sk-container {/* jupyter's `normalize.less` sets `[hidden] { display: none; }` but bootstrap.min.css set `[hidden] { display: none !important; }` so we also need the `!important` here to be able to override the default hidden behavior on the sphinx rendered scikit-learn.org. See: https://github.com/scikit-learn/scikit-learn/issues/21755 */display: inline-block !important;position: relative;}#sk-container-id-1 div.sk-text-repr-fallback {display: none;}</style><div id=\"sk-container-id-1\" class=\"sk-top-container\"><div class=\"sk-text-repr-fallback\"><pre>VotingClassifier(estimators=[(&#x27;xgb&#x27;,\n",
              "                              XGBClassifier(base_score=None, booster=None,\n",
              "                                            callbacks=None,\n",
              "                                            colsample_bylevel=None,\n",
              "                                            colsample_bynode=None,\n",
              "                                            colsample_bytree=None, device=None,\n",
              "                                            early_stopping_rounds=None,\n",
              "                                            enable_categorical=False,\n",
              "                                            eta=0.6000000000000001,\n",
              "                                            eval_metric=None,\n",
              "                                            feature_types=None,\n",
              "                                            gamma=5.684210526315789,\n",
              "                                            grow_policy=None,\n",
              "                                            importance_type=None,\n",
              "                                            inte...\n",
              "                                            min_child_weight=None, missing=nan,\n",
              "                                            monotone_constraints=None,\n",
              "                                            multi_strategy=None,\n",
              "                                            n_estimators=120, n_jobs=None, ...)),\n",
              "                             (&#x27;rn&#x27;,\n",
              "                              MultinomialNB(alpha=1.0714285714285714,\n",
              "                                            class_prior=[0.2, 0.8],\n",
              "                                            fit_prior=False,\n",
              "                                            force_alpha=True)),\n",
              "                             (&#x27;rf&#x27;,\n",
              "                              RandomForestClassifier(criterion=&#x27;entropy&#x27;,\n",
              "                                                     min_samples_leaf=5,\n",
              "                                                     min_samples_split=14,\n",
              "                                                     n_estimators=57, n_jobs=-1,\n",
              "                                                     oob_score=True,\n",
              "                                                     random_state=1))])</pre><b>In a Jupyter environment, please rerun this cell to show the HTML representation or trust the notebook. <br />On GitHub, the HTML representation is unable to render, please try loading this page with nbviewer.org.</b></div><div class=\"sk-container\" hidden><div class=\"sk-item sk-dashed-wrapped\"><div class=\"sk-label-container\"><div class=\"sk-label sk-toggleable\"><input class=\"sk-toggleable__control sk-hidden--visually\" id=\"sk-estimator-id-1\" type=\"checkbox\" ><label for=\"sk-estimator-id-1\" class=\"sk-toggleable__label sk-toggleable__label-arrow\">VotingClassifier</label><div class=\"sk-toggleable__content\"><pre>VotingClassifier(estimators=[(&#x27;xgb&#x27;,\n",
              "                              XGBClassifier(base_score=None, booster=None,\n",
              "                                            callbacks=None,\n",
              "                                            colsample_bylevel=None,\n",
              "                                            colsample_bynode=None,\n",
              "                                            colsample_bytree=None, device=None,\n",
              "                                            early_stopping_rounds=None,\n",
              "                                            enable_categorical=False,\n",
              "                                            eta=0.6000000000000001,\n",
              "                                            eval_metric=None,\n",
              "                                            feature_types=None,\n",
              "                                            gamma=5.684210526315789,\n",
              "                                            grow_policy=None,\n",
              "                                            importance_type=None,\n",
              "                                            inte...\n",
              "                                            min_child_weight=None, missing=nan,\n",
              "                                            monotone_constraints=None,\n",
              "                                            multi_strategy=None,\n",
              "                                            n_estimators=120, n_jobs=None, ...)),\n",
              "                             (&#x27;rn&#x27;,\n",
              "                              MultinomialNB(alpha=1.0714285714285714,\n",
              "                                            class_prior=[0.2, 0.8],\n",
              "                                            fit_prior=False,\n",
              "                                            force_alpha=True)),\n",
              "                             (&#x27;rf&#x27;,\n",
              "                              RandomForestClassifier(criterion=&#x27;entropy&#x27;,\n",
              "                                                     min_samples_leaf=5,\n",
              "                                                     min_samples_split=14,\n",
              "                                                     n_estimators=57, n_jobs=-1,\n",
              "                                                     oob_score=True,\n",
              "                                                     random_state=1))])</pre></div></div></div><div class=\"sk-parallel\"><div class=\"sk-parallel-item\"><div class=\"sk-item\"><div class=\"sk-label-container\"><div class=\"sk-label sk-toggleable\"><label>xgb</label></div></div><div class=\"sk-serial\"><div class=\"sk-item\"><div class=\"sk-estimator sk-toggleable\"><input class=\"sk-toggleable__control sk-hidden--visually\" id=\"sk-estimator-id-2\" type=\"checkbox\" ><label for=\"sk-estimator-id-2\" class=\"sk-toggleable__label sk-toggleable__label-arrow\">XGBClassifier</label><div class=\"sk-toggleable__content\"><pre>XGBClassifier(base_score=None, booster=None, callbacks=None,\n",
              "              colsample_bylevel=None, colsample_bynode=None,\n",
              "              colsample_bytree=None, device=None, early_stopping_rounds=None,\n",
              "              enable_categorical=False, eta=0.6000000000000001,\n",
              "              eval_metric=None, feature_types=None, gamma=5.684210526315789,\n",
              "              grow_policy=None, importance_type=None,\n",
              "              interaction_constraints=None, lambda=7.894736842105263,\n",
              "              learning_rate=0.4214572864321608, max_bin=None,\n",
              "              max_cat_threshold=None, max_cat_to_onehot=None,\n",
              "              max_delta_step=None, max_depth=6, max_leaves=None,\n",
              "              min_child_weight=None, missing=nan, monotone_constraints=None,\n",
              "              multi_strategy=None, n_estimators=120, n_jobs=None, ...)</pre></div></div></div></div></div></div><div class=\"sk-parallel-item\"><div class=\"sk-item\"><div class=\"sk-label-container\"><div class=\"sk-label sk-toggleable\"><label>rn</label></div></div><div class=\"sk-serial\"><div class=\"sk-item\"><div class=\"sk-estimator sk-toggleable\"><input class=\"sk-toggleable__control sk-hidden--visually\" id=\"sk-estimator-id-3\" type=\"checkbox\" ><label for=\"sk-estimator-id-3\" class=\"sk-toggleable__label sk-toggleable__label-arrow\">MultinomialNB</label><div class=\"sk-toggleable__content\"><pre>MultinomialNB(alpha=1.0714285714285714, class_prior=[0.2, 0.8], fit_prior=False,\n",
              "              force_alpha=True)</pre></div></div></div></div></div></div><div class=\"sk-parallel-item\"><div class=\"sk-item\"><div class=\"sk-label-container\"><div class=\"sk-label sk-toggleable\"><label>rf</label></div></div><div class=\"sk-serial\"><div class=\"sk-item\"><div class=\"sk-estimator sk-toggleable\"><input class=\"sk-toggleable__control sk-hidden--visually\" id=\"sk-estimator-id-4\" type=\"checkbox\" ><label for=\"sk-estimator-id-4\" class=\"sk-toggleable__label sk-toggleable__label-arrow\">RandomForestClassifier</label><div class=\"sk-toggleable__content\"><pre>RandomForestClassifier(criterion=&#x27;entropy&#x27;, min_samples_leaf=5,\n",
              "                       min_samples_split=14, n_estimators=57, n_jobs=-1,\n",
              "                       oob_score=True, random_state=1)</pre></div></div></div></div></div></div></div></div></div></div>"
            ]
          },
          "metadata": {},
          "execution_count": 15
        }
      ],
      "source": [
        "voting_rn_xgb_rf.fit(x_train_aux,y_train)"
      ]
    },
    {
      "cell_type": "code",
      "source": [
        "joblib.dump(voting_rn_xgb_rf, '/content/drive/MyDrive/modelos/voting_rn_xgb_rf.joblib')"
      ],
      "metadata": {
        "colab": {
          "base_uri": "https://localhost:8080/"
        },
        "outputId": "bbede34a-da95-4c7c-81a0-58eeaabb170d",
        "id": "79XYcJJ7P_vs"
      },
      "execution_count": null,
      "outputs": [
        {
          "output_type": "execute_result",
          "data": {
            "text/plain": [
              "['/content/drive/MyDrive/modelos/voting_rn_xgb_rf.joblib']"
            ]
          },
          "metadata": {},
          "execution_count": 16
        }
      ]
    },
    {
      "cell_type": "code",
      "source": [
        "voting_rn_xgb_rf"
      ],
      "metadata": {
        "colab": {
          "base_uri": "https://localhost:8080/",
          "height": 109
        },
        "outputId": "8975410b-84d8-4aae-969a-0d40fa8ec04b",
        "id": "2Tcv7kOJP_vs"
      },
      "execution_count": null,
      "outputs": [
        {
          "output_type": "execute_result",
          "data": {
            "text/plain": [
              "VotingClassifier(estimators=[('xgb',\n",
              "                              XGBClassifier(base_score=None, booster=None,\n",
              "                                            callbacks=None,\n",
              "                                            colsample_bylevel=None,\n",
              "                                            colsample_bynode=None,\n",
              "                                            colsample_bytree=None, device=None,\n",
              "                                            early_stopping_rounds=None,\n",
              "                                            enable_categorical=False,\n",
              "                                            eta=0.6000000000000001,\n",
              "                                            eval_metric=None,\n",
              "                                            feature_types=None,\n",
              "                                            gamma=5.684210526315789,\n",
              "                                            grow_policy=None,\n",
              "                                            importance_type=None,\n",
              "                                            inte...\n",
              "                                            min_child_weight=None, missing=nan,\n",
              "                                            monotone_constraints=None,\n",
              "                                            multi_strategy=None,\n",
              "                                            n_estimators=120, n_jobs=None, ...)),\n",
              "                             ('rn',\n",
              "                              MultinomialNB(alpha=1.0714285714285714,\n",
              "                                            class_prior=[0.2, 0.8],\n",
              "                                            fit_prior=False,\n",
              "                                            force_alpha=True)),\n",
              "                             ('rf',\n",
              "                              RandomForestClassifier(criterion='entropy',\n",
              "                                                     min_samples_leaf=5,\n",
              "                                                     min_samples_split=14,\n",
              "                                                     n_estimators=57, n_jobs=-1,\n",
              "                                                     oob_score=True,\n",
              "                                                     random_state=1))])"
            ],
            "text/html": [
              "<style>#sk-container-id-2 {color: black;background-color: white;}#sk-container-id-2 pre{padding: 0;}#sk-container-id-2 div.sk-toggleable {background-color: white;}#sk-container-id-2 label.sk-toggleable__label {cursor: pointer;display: block;width: 100%;margin-bottom: 0;padding: 0.3em;box-sizing: border-box;text-align: center;}#sk-container-id-2 label.sk-toggleable__label-arrow:before {content: \"▸\";float: left;margin-right: 0.25em;color: #696969;}#sk-container-id-2 label.sk-toggleable__label-arrow:hover:before {color: black;}#sk-container-id-2 div.sk-estimator:hover label.sk-toggleable__label-arrow:before {color: black;}#sk-container-id-2 div.sk-toggleable__content {max-height: 0;max-width: 0;overflow: hidden;text-align: left;background-color: #f0f8ff;}#sk-container-id-2 div.sk-toggleable__content pre {margin: 0.2em;color: black;border-radius: 0.25em;background-color: #f0f8ff;}#sk-container-id-2 input.sk-toggleable__control:checked~div.sk-toggleable__content {max-height: 200px;max-width: 100%;overflow: auto;}#sk-container-id-2 input.sk-toggleable__control:checked~label.sk-toggleable__label-arrow:before {content: \"▾\";}#sk-container-id-2 div.sk-estimator input.sk-toggleable__control:checked~label.sk-toggleable__label {background-color: #d4ebff;}#sk-container-id-2 div.sk-label input.sk-toggleable__control:checked~label.sk-toggleable__label {background-color: #d4ebff;}#sk-container-id-2 input.sk-hidden--visually {border: 0;clip: rect(1px 1px 1px 1px);clip: rect(1px, 1px, 1px, 1px);height: 1px;margin: -1px;overflow: hidden;padding: 0;position: absolute;width: 1px;}#sk-container-id-2 div.sk-estimator {font-family: monospace;background-color: #f0f8ff;border: 1px dotted black;border-radius: 0.25em;box-sizing: border-box;margin-bottom: 0.5em;}#sk-container-id-2 div.sk-estimator:hover {background-color: #d4ebff;}#sk-container-id-2 div.sk-parallel-item::after {content: \"\";width: 100%;border-bottom: 1px solid gray;flex-grow: 1;}#sk-container-id-2 div.sk-label:hover label.sk-toggleable__label {background-color: #d4ebff;}#sk-container-id-2 div.sk-serial::before {content: \"\";position: absolute;border-left: 1px solid gray;box-sizing: border-box;top: 0;bottom: 0;left: 50%;z-index: 0;}#sk-container-id-2 div.sk-serial {display: flex;flex-direction: column;align-items: center;background-color: white;padding-right: 0.2em;padding-left: 0.2em;position: relative;}#sk-container-id-2 div.sk-item {position: relative;z-index: 1;}#sk-container-id-2 div.sk-parallel {display: flex;align-items: stretch;justify-content: center;background-color: white;position: relative;}#sk-container-id-2 div.sk-item::before, #sk-container-id-2 div.sk-parallel-item::before {content: \"\";position: absolute;border-left: 1px solid gray;box-sizing: border-box;top: 0;bottom: 0;left: 50%;z-index: -1;}#sk-container-id-2 div.sk-parallel-item {display: flex;flex-direction: column;z-index: 1;position: relative;background-color: white;}#sk-container-id-2 div.sk-parallel-item:first-child::after {align-self: flex-end;width: 50%;}#sk-container-id-2 div.sk-parallel-item:last-child::after {align-self: flex-start;width: 50%;}#sk-container-id-2 div.sk-parallel-item:only-child::after {width: 0;}#sk-container-id-2 div.sk-dashed-wrapped {border: 1px dashed gray;margin: 0 0.4em 0.5em 0.4em;box-sizing: border-box;padding-bottom: 0.4em;background-color: white;}#sk-container-id-2 div.sk-label label {font-family: monospace;font-weight: bold;display: inline-block;line-height: 1.2em;}#sk-container-id-2 div.sk-label-container {text-align: center;}#sk-container-id-2 div.sk-container {/* jupyter's `normalize.less` sets `[hidden] { display: none; }` but bootstrap.min.css set `[hidden] { display: none !important; }` so we also need the `!important` here to be able to override the default hidden behavior on the sphinx rendered scikit-learn.org. See: https://github.com/scikit-learn/scikit-learn/issues/21755 */display: inline-block !important;position: relative;}#sk-container-id-2 div.sk-text-repr-fallback {display: none;}</style><div id=\"sk-container-id-2\" class=\"sk-top-container\"><div class=\"sk-text-repr-fallback\"><pre>VotingClassifier(estimators=[(&#x27;xgb&#x27;,\n",
              "                              XGBClassifier(base_score=None, booster=None,\n",
              "                                            callbacks=None,\n",
              "                                            colsample_bylevel=None,\n",
              "                                            colsample_bynode=None,\n",
              "                                            colsample_bytree=None, device=None,\n",
              "                                            early_stopping_rounds=None,\n",
              "                                            enable_categorical=False,\n",
              "                                            eta=0.6000000000000001,\n",
              "                                            eval_metric=None,\n",
              "                                            feature_types=None,\n",
              "                                            gamma=5.684210526315789,\n",
              "                                            grow_policy=None,\n",
              "                                            importance_type=None,\n",
              "                                            inte...\n",
              "                                            min_child_weight=None, missing=nan,\n",
              "                                            monotone_constraints=None,\n",
              "                                            multi_strategy=None,\n",
              "                                            n_estimators=120, n_jobs=None, ...)),\n",
              "                             (&#x27;rn&#x27;,\n",
              "                              MultinomialNB(alpha=1.0714285714285714,\n",
              "                                            class_prior=[0.2, 0.8],\n",
              "                                            fit_prior=False,\n",
              "                                            force_alpha=True)),\n",
              "                             (&#x27;rf&#x27;,\n",
              "                              RandomForestClassifier(criterion=&#x27;entropy&#x27;,\n",
              "                                                     min_samples_leaf=5,\n",
              "                                                     min_samples_split=14,\n",
              "                                                     n_estimators=57, n_jobs=-1,\n",
              "                                                     oob_score=True,\n",
              "                                                     random_state=1))])</pre><b>In a Jupyter environment, please rerun this cell to show the HTML representation or trust the notebook. <br />On GitHub, the HTML representation is unable to render, please try loading this page with nbviewer.org.</b></div><div class=\"sk-container\" hidden><div class=\"sk-item sk-dashed-wrapped\"><div class=\"sk-label-container\"><div class=\"sk-label sk-toggleable\"><input class=\"sk-toggleable__control sk-hidden--visually\" id=\"sk-estimator-id-5\" type=\"checkbox\" ><label for=\"sk-estimator-id-5\" class=\"sk-toggleable__label sk-toggleable__label-arrow\">VotingClassifier</label><div class=\"sk-toggleable__content\"><pre>VotingClassifier(estimators=[(&#x27;xgb&#x27;,\n",
              "                              XGBClassifier(base_score=None, booster=None,\n",
              "                                            callbacks=None,\n",
              "                                            colsample_bylevel=None,\n",
              "                                            colsample_bynode=None,\n",
              "                                            colsample_bytree=None, device=None,\n",
              "                                            early_stopping_rounds=None,\n",
              "                                            enable_categorical=False,\n",
              "                                            eta=0.6000000000000001,\n",
              "                                            eval_metric=None,\n",
              "                                            feature_types=None,\n",
              "                                            gamma=5.684210526315789,\n",
              "                                            grow_policy=None,\n",
              "                                            importance_type=None,\n",
              "                                            inte...\n",
              "                                            min_child_weight=None, missing=nan,\n",
              "                                            monotone_constraints=None,\n",
              "                                            multi_strategy=None,\n",
              "                                            n_estimators=120, n_jobs=None, ...)),\n",
              "                             (&#x27;rn&#x27;,\n",
              "                              MultinomialNB(alpha=1.0714285714285714,\n",
              "                                            class_prior=[0.2, 0.8],\n",
              "                                            fit_prior=False,\n",
              "                                            force_alpha=True)),\n",
              "                             (&#x27;rf&#x27;,\n",
              "                              RandomForestClassifier(criterion=&#x27;entropy&#x27;,\n",
              "                                                     min_samples_leaf=5,\n",
              "                                                     min_samples_split=14,\n",
              "                                                     n_estimators=57, n_jobs=-1,\n",
              "                                                     oob_score=True,\n",
              "                                                     random_state=1))])</pre></div></div></div><div class=\"sk-parallel\"><div class=\"sk-parallel-item\"><div class=\"sk-item\"><div class=\"sk-label-container\"><div class=\"sk-label sk-toggleable\"><label>xgb</label></div></div><div class=\"sk-serial\"><div class=\"sk-item\"><div class=\"sk-estimator sk-toggleable\"><input class=\"sk-toggleable__control sk-hidden--visually\" id=\"sk-estimator-id-6\" type=\"checkbox\" ><label for=\"sk-estimator-id-6\" class=\"sk-toggleable__label sk-toggleable__label-arrow\">XGBClassifier</label><div class=\"sk-toggleable__content\"><pre>XGBClassifier(base_score=None, booster=None, callbacks=None,\n",
              "              colsample_bylevel=None, colsample_bynode=None,\n",
              "              colsample_bytree=None, device=None, early_stopping_rounds=None,\n",
              "              enable_categorical=False, eta=0.6000000000000001,\n",
              "              eval_metric=None, feature_types=None, gamma=5.684210526315789,\n",
              "              grow_policy=None, importance_type=None,\n",
              "              interaction_constraints=None, lambda=7.894736842105263,\n",
              "              learning_rate=0.4214572864321608, max_bin=None,\n",
              "              max_cat_threshold=None, max_cat_to_onehot=None,\n",
              "              max_delta_step=None, max_depth=6, max_leaves=None,\n",
              "              min_child_weight=None, missing=nan, monotone_constraints=None,\n",
              "              multi_strategy=None, n_estimators=120, n_jobs=None, ...)</pre></div></div></div></div></div></div><div class=\"sk-parallel-item\"><div class=\"sk-item\"><div class=\"sk-label-container\"><div class=\"sk-label sk-toggleable\"><label>rn</label></div></div><div class=\"sk-serial\"><div class=\"sk-item\"><div class=\"sk-estimator sk-toggleable\"><input class=\"sk-toggleable__control sk-hidden--visually\" id=\"sk-estimator-id-7\" type=\"checkbox\" ><label for=\"sk-estimator-id-7\" class=\"sk-toggleable__label sk-toggleable__label-arrow\">MultinomialNB</label><div class=\"sk-toggleable__content\"><pre>MultinomialNB(alpha=1.0714285714285714, class_prior=[0.2, 0.8], fit_prior=False,\n",
              "              force_alpha=True)</pre></div></div></div></div></div></div><div class=\"sk-parallel-item\"><div class=\"sk-item\"><div class=\"sk-label-container\"><div class=\"sk-label sk-toggleable\"><label>rf</label></div></div><div class=\"sk-serial\"><div class=\"sk-item\"><div class=\"sk-estimator sk-toggleable\"><input class=\"sk-toggleable__control sk-hidden--visually\" id=\"sk-estimator-id-8\" type=\"checkbox\" ><label for=\"sk-estimator-id-8\" class=\"sk-toggleable__label sk-toggleable__label-arrow\">RandomForestClassifier</label><div class=\"sk-toggleable__content\"><pre>RandomForestClassifier(criterion=&#x27;entropy&#x27;, min_samples_leaf=5,\n",
              "                       min_samples_split=14, n_estimators=57, n_jobs=-1,\n",
              "                       oob_score=True, random_state=1)</pre></div></div></div></div></div></div></div></div></div></div>"
            ]
          },
          "metadata": {},
          "execution_count": 17
        }
      ]
    },
    {
      "cell_type": "code",
      "source": [
        "y_pred_voting_rn_xgb_rf = voting_rn_xgb_rf.predict(x_test)"
      ],
      "metadata": {
        "id": "oT1XcY4AP_vt"
      },
      "execution_count": null,
      "outputs": []
    },
    {
      "cell_type": "code",
      "source": [
        "df_pred_voting = pd.DataFrame()\n",
        "df_pred_voting['ID'] = df_test['ID']\n",
        "df_pred_voting['sentimiento'] = y_pred_voting_rn_xgb_rf\n",
        "\n",
        "df_pred_voting.to_csv('/content/drive/MyDrive/pred/y_pred_voting_rn_xgb_rf.csv', index=False)"
      ],
      "metadata": {
        "id": "h3vh1sGzP_vt"
      },
      "execution_count": null,
      "outputs": []
    }
  ],
  "metadata": {
    "colab": {
      "collapsed_sections": [
        "Svssv6q5xISJ",
        "1SDdLKhZFv_g",
        "K7AcSlIzLw9r",
        "237yEWU0Lwo9",
        "_iLgLwd_Okuu",
        "AQzMzm9CP_vk"
      ],
      "provenance": []
    },
    "kernelspec": {
      "display_name": "Python 3",
      "name": "python3"
    },
    "language_info": {
      "name": "python"
    }
  },
  "nbformat": 4,
  "nbformat_minor": 0
}