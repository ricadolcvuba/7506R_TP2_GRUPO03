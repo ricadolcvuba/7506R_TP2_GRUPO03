{
  "nbformat": 4,
  "nbformat_minor": 0,
  "metadata": {
    "colab": {
      "provenance": [],
      "collapsed_sections": [
        "w7N7WUwQqpMl"
      ]
    },
    "kernelspec": {
      "name": "python3",
      "display_name": "Python 3"
    },
    "language_info": {
      "name": "python"
    }
  },
  "cells": [
    {
      "cell_type": "code",
      "source": [
        "import matplotlib.pyplot as plt\n",
        "import pandas as pd\n",
        "import numpy as np\n",
        "import re\n",
        "import random\n",
        "\n",
        "from IPython.display import display\n",
        "\n",
        "from nltk import word_tokenize, sent_tokenize\n",
        "\n",
        "from sklearn.model_selection import train_test_split, cross_val_score, GridSearchCV,StratifiedKFold\n",
        "from sklearn.feature_extraction.text import CountVectorizer, TfidfVectorizer\n",
        "from sklearn.naive_bayes import MultinomialNB\n",
        "from sklearn.metrics import confusion_matrix, precision_recall_fscore_support, classification_report\n",
        "from sklearn.dummy import DummyClassifier\n",
        "import nltk"
      ],
      "metadata": {
        "id": "p50hNkHZsosO"
      },
      "execution_count": null,
      "outputs": []
    },
    {
      "cell_type": "code",
      "source": [
        "train_url = 'https://media.githubusercontent.com/media/ricadolcvuba/Dataset-TP2/main/df_train_preprocesado.csv'\n",
        "df_train = pd.read_csv(train_url)\n",
        "x_train = df_train['review_es']\n",
        "y_train = df_train['sentimiento']\n",
        "test_url = 'https://media.githubusercontent.com/media/ricadolcvuba/Dataset-TP2/main/df_test_preprocesado.csv'\n",
        "df_test = pd.read_csv(test_url)\n",
        "x_test = df_test['review_es']"
      ],
      "metadata": {
        "id": "jcx0UcMVsuIg"
      },
      "execution_count": null,
      "outputs": []
    },
    {
      "cell_type": "markdown",
      "source": [
        "#Naive Bayes"
      ],
      "metadata": {
        "id": "68UmYZv2itME"
      }
    },
    {
      "cell_type": "markdown",
      "source": [
        "##Vectorizar"
      ],
      "metadata": {
        "id": "hnT9OUVZmxPF"
      }
    },
    {
      "cell_type": "code",
      "source": [
        "from sklearn.feature_extraction.text import CountVectorizer\n",
        "import nltk\n",
        "from nltk.corpus import stopwords\n",
        "from nltk import word_tokenize\n",
        "nltk.download('stopwords')"
      ],
      "metadata": {
        "colab": {
          "base_uri": "https://localhost:8080/"
        },
        "id": "ekI0RTMEiYYz",
        "outputId": "768df54d-dded-4858-8156-ff04d07d4445"
      },
      "execution_count": null,
      "outputs": [
        {
          "output_type": "stream",
          "name": "stderr",
          "text": [
            "[nltk_data] Downloading package stopwords to /root/nltk_data...\n",
            "[nltk_data]   Unzipping corpora/stopwords.zip.\n"
          ]
        },
        {
          "output_type": "execute_result",
          "data": {
            "text/plain": [
              "True"
            ]
          },
          "metadata": {},
          "execution_count": 3
        }
      ]
    },
    {
      "cell_type": "code",
      "source": [
        "x_train_text = df_train['review_es']\n",
        "y_train_text = df_train['sentimiento']\n",
        "\n",
        "x_test_text = df_test['review_es']"
      ],
      "metadata": {
        "id": "4dLN_ZhykJIJ"
      },
      "execution_count": null,
      "outputs": []
    },
    {
      "cell_type": "code",
      "source": [
        "my_stop_words = stopwords.words('spanish')\n",
        "\n",
        "# Instanciamos el CV\n",
        "#Configurar el vectorizador de palabras para convertir el texto en una representación numérica.\n",
        "vec = CountVectorizer(stop_words=my_stop_words, ngram_range=(1,2))\n",
        "\n",
        "# Ajustamos el CV y transformamos los datos\n",
        "#transformar los datos de entrenamiento en una matriz numérica.\n",
        "x_train_aux = vec.fit_transform(x_train_text)\n",
        "#Transformar los datos de prueba en la misma representación numérica que el conjunto de entrenamiento\n",
        "x_test = vec.transform(x_test_text)"
      ],
      "metadata": {
        "id": "-3XwJZDhnVPG"
      },
      "execution_count": null,
      "outputs": []
    },
    {
      "cell_type": "code",
      "source": [
        "print(x_train_aux)"
      ],
      "metadata": {
        "colab": {
          "base_uri": "https://localhost:8080/"
        },
        "id": "GbbuR9qgrCOy",
        "outputId": "8fa5a86d-2142-4c3b-e168-69a0e4e66ad1"
      },
      "execution_count": null,
      "outputs": [
        {
          "output_type": "stream",
          "name": "stdout",
          "text": [
            "  (0, 697421)\t1\n",
            "  (0, 1898993)\t1\n",
            "  (0, 830041)\t1\n",
            "  (0, 3079904)\t2\n",
            "  (0, 2789740)\t2\n",
            "  (0, 2151486)\t6\n",
            "  (0, 1043420)\t2\n",
            "  (0, 1119292)\t1\n",
            "  (0, 1016518)\t1\n",
            "  (0, 2488725)\t1\n",
            "  (0, 1149226)\t1\n",
            "  (0, 2838667)\t1\n",
            "  (0, 614205)\t1\n",
            "  (0, 2395540)\t2\n",
            "  (0, 668127)\t1\n",
            "  (0, 1332604)\t1\n",
            "  (0, 375201)\t1\n",
            "  (0, 1058107)\t1\n",
            "  (0, 3131887)\t4\n",
            "  (0, 1545805)\t1\n",
            "  (0, 1001713)\t1\n",
            "  (0, 793434)\t1\n",
            "  (0, 2161246)\t2\n",
            "  (0, 607000)\t1\n",
            "  (0, 1093226)\t4\n",
            "  :\t:\n",
            "  (48178, 1045280)\t1\n",
            "  (48178, 1575866)\t1\n",
            "  (48178, 610347)\t1\n",
            "  (48178, 1597454)\t1\n",
            "  (48178, 3097086)\t1\n",
            "  (48178, 212858)\t1\n",
            "  (48178, 1890374)\t1\n",
            "  (48178, 1045281)\t1\n",
            "  (48178, 2997403)\t1\n",
            "  (48178, 1575867)\t1\n",
            "  (48178, 610348)\t1\n",
            "  (48178, 1000964)\t1\n",
            "  (48178, 2267815)\t1\n",
            "  (48178, 2080369)\t1\n",
            "  (48178, 87040)\t1\n",
            "  (48178, 2297534)\t1\n",
            "  (48178, 1597455)\t1\n",
            "  (48178, 1060247)\t1\n",
            "  (48178, 1334177)\t1\n",
            "  (48178, 1878490)\t1\n",
            "  (48178, 3184579)\t1\n",
            "  (48178, 2259041)\t1\n",
            "  (48178, 3097087)\t1\n",
            "  (48178, 1258685)\t1\n",
            "  (48178, 398987)\t1\n"
          ]
        }
      ]
    },
    {
      "cell_type": "markdown",
      "source": [
        "##Modelo"
      ],
      "metadata": {
        "id": "w7N7WUwQqpMl"
      }
    },
    {
      "cell_type": "code",
      "source": [
        "from sklearn.naive_bayes import MultinomialNB\n",
        "from sklearn.model_selection import train_test_split, cross_val_score\n",
        "from sklearn.model_selection import StratifiedKFold, KFold,RandomizedSearchCV\n",
        "from sklearn.metrics import make_scorer, f1_score"
      ],
      "metadata": {
        "id": "K2ADIF47kJAD"
      },
      "execution_count": null,
      "outputs": []
    },
    {
      "cell_type": "code",
      "source": [
        "#Cantidad de combinaciones que quiero porbar\n",
        "n=10\n",
        "#Conjunto de parámetros que quiero usar\n",
        "params = {'alpha':np.linspace(0,1.5,15),\n",
        "               'force_alpha':[True,False],\n",
        "               'fit_prior':[True,False],\n",
        "               'class_prior':[None, [0.2, 0.8], [0.5, 0.5]]}\n",
        "#Cantidad de splits para el Cross Validation\n",
        "folds=10\n",
        "#Kfold\n",
        "kfoldcv = KFold(n_splits=folds)\n",
        "#Clasificador\n",
        "nb = MultinomialNB()\n",
        "#Metrica que quiero optimizar F1 Score\n",
        "scorer_fn = make_scorer(f1_score, average='macro')\n",
        "#Random Search Cross Validation\n",
        "randomcv = RandomizedSearchCV(nb,\n",
        "                              param_distributions = params,\n",
        "                              scoring=scorer_fn,\n",
        "                              cv=kfoldcv,\n",
        "                              random_state=20,\n",
        "                              n_iter=n)\n",
        "#Busco los hiperparamtros que optimizan F1 Score\n",
        "randomcv.fit(x_train_aux, y_train_text);"
      ],
      "metadata": {
        "id": "wWviay4mkI5A"
      },
      "execution_count": null,
      "outputs": []
    },
    {
      "cell_type": "code",
      "source": [
        "#Mejores hiperparametros\n",
        "print(randomcv.best_params_)\n",
        "#Mejor métrica\n",
        "print(randomcv.best_score_)"
      ],
      "metadata": {
        "id": "RYMqmiYHkIu0",
        "colab": {
          "base_uri": "https://localhost:8080/"
        },
        "outputId": "097a567f-3e98-499f-b9cb-5d699d88743d"
      },
      "execution_count": null,
      "outputs": [
        {
          "output_type": "stream",
          "name": "stdout",
          "text": [
            "{'force_alpha': True, 'fit_prior': False, 'class_prior': [0.2, 0.8], 'alpha': 1.0714285714285714}\n",
            "0.8754148480901254\n"
          ]
        }
      ]
    },
    {
      "cell_type": "code",
      "source": [
        "#Mejor estimador\n",
        "best_nb=randomcv.best_estimator_\n",
        "\n",
        "#Predicción con mejor estimador\n",
        "y_pred_nb=best_nb.predict(x_test)"
      ],
      "metadata": {
        "id": "bmsh5Lx_uGh_"
      },
      "execution_count": null,
      "outputs": []
    },
    {
      "cell_type": "markdown",
      "source": [
        "Crear dataset de predicciones"
      ],
      "metadata": {
        "id": "01R9VP3qL6JQ"
      }
    },
    {
      "cell_type": "code",
      "source": [
        "df_pred_nb = pd.DataFrame()\n",
        "df_pred_nb['ID'] = df_test['ID']\n",
        "df_pred_nb['sentimiento'] = y_pred_nb"
      ],
      "metadata": {
        "id": "fHKRnCF_DvQV"
      },
      "execution_count": null,
      "outputs": []
    },
    {
      "cell_type": "markdown",
      "source": [
        "Descargar dataset"
      ],
      "metadata": {
        "id": "xJa7Vk2_L6JQ"
      }
    },
    {
      "cell_type": "code",
      "source": [
        "df_pred_nb.to_csv('df_pred_nb.csv', index=False)"
      ],
      "metadata": {
        "id": "mZ_DwfIoEDhe"
      },
      "execution_count": null,
      "outputs": []
    },
    {
      "cell_type": "code",
      "source": [
        "import joblib"
      ],
      "metadata": {
        "id": "-ABDvVlVDNbH"
      },
      "execution_count": null,
      "outputs": []
    },
    {
      "cell_type": "code",
      "source": [
        "joblib.dump(best_nb,'best_nb.joblib')"
      ],
      "metadata": {
        "id": "CSqvFFFRC-23",
        "colab": {
          "base_uri": "https://localhost:8080/"
        },
        "outputId": "0c5a202d-e812-4a77-f37b-5d772fd4b087"
      },
      "execution_count": null,
      "outputs": [
        {
          "output_type": "execute_result",
          "data": {
            "text/plain": [
              "['best_nb.joblib']"
            ]
          },
          "metadata": {},
          "execution_count": 26
        }
      ]
    }
  ]
}